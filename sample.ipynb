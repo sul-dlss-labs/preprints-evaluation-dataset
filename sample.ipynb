{
 "cells": [
  {
   "cell_type": "markdown",
   "id": "23b49c01-6882-422c-af3d-dfe327bc0d56",
   "metadata": {},
   "source": [
    "# Sample by Field\n",
    "\n",
    "This notebook creates a sample of the preprint metadata where the disciplinary fields as expressed in the OpenAlex metadata are equally sampled, and the publication date is after 2019. The goal isn't to have a representative sample of all preprints, since we are only seeing preprints that happen to be in OpenAlex. The purpose of this dataset is to help build a hand curated benchmark dataset for evaluating different machine learning models and techniques. You will need a copy of the OpenAlex metadata that was collected in the [download-preprints](download-preprints.ipynb) notebook.\n",
    "\n",
    "https://storage.cloud.google.com/cloud-ai-platform-e215f7f7-a526-4a66-902d-eb69384ef0c4/preprints/metadata.jsonl"
   ]
  },
  {
   "cell_type": "code",
   "execution_count": 1,
   "id": "4223b185-ffa1-4a8a-b970-c160953b4d26",
   "metadata": {},
   "outputs": [
    {
     "data": {
      "text/plain": [
       "48221"
      ]
     },
     "execution_count": 1,
     "metadata": {},
     "output_type": "execute_result"
    }
   ],
   "source": [
    "import pandas\n",
    "\n",
    "df = pandas.read_json('metadata.jsonl', lines=True)\n",
    "len(df)"
   ]
  },
  {
   "cell_type": "code",
   "execution_count": 2,
   "id": "b7e0bdf8-241e-4189-8af6-2ba615ee4fbd",
   "metadata": {},
   "outputs": [
    {
     "data": {
      "text/plain": [
       "19669"
      ]
     },
     "execution_count": 2,
     "metadata": {},
     "output_type": "execute_result"
    }
   ],
   "source": [
    "df = df[df.publication_year >= 2019]\n",
    "len(df)"
   ]
  },
  {
   "cell_type": "markdown",
   "id": "f8a333a7-f23f-4984-8b45-d136870dca55",
   "metadata": {},
   "source": [
    "Extract the OpenAlex primary topic into a separate column:"
   ]
  },
  {
   "cell_type": "code",
   "execution_count": 3,
   "id": "243ba0b2-f003-45a9-93f9-e5776329b21a",
   "metadata": {},
   "outputs": [
    {
     "data": {
      "text/plain": [
       "field\n",
       "Molecular Biology                   2161\n",
       "Artificial Intelligence             1043\n",
       "Astronomy and Astrophysics           984\n",
       "Genetics                             727\n",
       "Cognitive Neuroscience               701\n",
       "                                    ... \n",
       "Museology                              1\n",
       "Ceramics and Composites                1\n",
       "Process Chemistry and Technology       1\n",
       "General Dentistry                      1\n",
       "Linguistics and Language               1\n",
       "Name: count, Length: 218, dtype: int64"
      ]
     },
     "execution_count": 3,
     "metadata": {},
     "output_type": "execute_result"
    }
   ],
   "source": [
    "df = df[df['primary_topic'].notna()]\n",
    "df['field'] = df['primary_topic'].apply(lambda s: pandas.json_normalize(s)['subfield.display_name'])\n",
    "df['field'].value_counts()"
   ]
  },
  {
   "cell_type": "markdown",
   "id": "81ec4ffc-1a42-42a2-928f-796c3019a2fa",
   "metadata": {},
   "source": [
    "Create a URL field:"
   ]
  },
  {
   "cell_type": "code",
   "execution_count": 4,
   "id": "98ed1248-3bb3-4ef1-a745-580075fde306",
   "metadata": {},
   "outputs": [],
   "source": [
    "df['url'] = df.pdf_path.apply(lambda p: \"https://storage.cloud.google.com/cloud-ai-platform-e215f7f7-a526-4a66-902d-eb69384ef0c4/preprints/\" + p)"
   ]
  },
  {
   "cell_type": "code",
   "execution_count": 6,
   "id": "b9f66766-5b64-46ce-a3d0-bc32b6540f38",
   "metadata": {},
   "outputs": [
    {
     "data": {
      "text/plain": [
       "array(['Molecular Biology', 'Infectious Diseases',\n",
       "       'Computer Vision and Pattern Recognition',\n",
       "       'Renewable Energy, Sustainability and the Environment',\n",
       "       'Astronomy and Astrophysics',\n",
       "       'Atomic and Molecular Physics, and Optics',\n",
       "       'Global and Planetary Change', 'Epidemiology',\n",
       "       'Nature and Landscape Conservation', 'Automotive Engineering',\n",
       "       'Endocrinology, Diabetes and Metabolism',\n",
       "       'Radiology, Nuclear Medicine and Imaging',\n",
       "       'Modeling and Simulation',\n",
       "       'Cardiology and Cardiovascular Medicine',\n",
       "       'Artificial Intelligence', 'Health, Toxicology and Mutagenesis',\n",
       "       'Statistics and Probability',\n",
       "       'General Economics, Econometrics and Finance', 'Oncology',\n",
       "       'Otorhinolaryngology', 'Nuclear and High Energy Physics',\n",
       "       'Cognitive Neuroscience', 'Immunology', 'Geology', 'Genetics',\n",
       "       'Control and Systems Engineering', 'Clinical Psychology',\n",
       "       'Physiology', 'Pulmonary and Respiratory Medicine',\n",
       "       'Cancer Research', 'Economics and Econometrics', 'Ecology',\n",
       "       'Statistics, Probability and Uncertainty', 'Rheumatology',\n",
       "       'Neurology', 'Materials Chemistry', 'Polymers and Plastics',\n",
       "       'Spectroscopy', 'Obstetrics and Gynecology',\n",
       "       'Sociology and Political Science',\n",
       "       'Ecology, Evolution, Behavior and Systematics',\n",
       "       'Information Systems and Management',\n",
       "       'Public Health, Environmental and Occupational Health',\n",
       "       'Computational Theory and Mathematics', 'Sensory Systems',\n",
       "       'Cell Biology', 'Computational Mechanics',\n",
       "       'Biomedical Engineering', 'Cellular and Molecular Neuroscience',\n",
       "       'Electrical and Electronic Engineering', 'Aerospace Engineering',\n",
       "       'Environmental Engineering',\n",
       "       'Political Science and International Relations', 'Plant Science',\n",
       "       'Computer Graphics and Computer-Aided Design',\n",
       "       'Immunology and Allergy', 'Statistical and Nonlinear Physics',\n",
       "       'Condensed Matter Physics',\n",
       "       'Pediatrics, Perinatology and Child Health',\n",
       "       'Electronic, Optical and Magnetic Materials', 'Geophysics',\n",
       "       'Nephrology', 'Endocrine and Autonomic Systems', 'Finance',\n",
       "       'Numerical Analysis', 'Pathology and Forensic Medicine',\n",
       "       'Health Informatics', 'Accounting',\n",
       "       'Developmental and Educational Psychology', 'Inorganic Chemistry',\n",
       "       'Management Science and Operations Research',\n",
       "       'Nutrition and Dietetics', 'Hematology',\n",
       "       'Psychiatry and Mental health', 'Biophysics',\n",
       "       'Mechanical Engineering', 'Ocean Engineering',\n",
       "       'Information Systems', 'Surgery', 'Structural Biology',\n",
       "       'Neuropsychology and Physiological Psychology',\n",
       "       'Algebra and Number Theory',\n",
       "       'Complementary and alternative medicine',\n",
       "       'Civil and Structural Engineering', 'Social Psychology',\n",
       "       'Gastroenterology', 'Biochemistry', 'Pharmacology', 'Education',\n",
       "       'Human-Computer Interaction',\n",
       "       'Industrial and Manufacturing Engineering', 'Safety Research',\n",
       "       'Hardware and Architecture', 'Communication', 'Gender Studies',\n",
       "       'Speech and Hearing', 'Hepatology',\n",
       "       'Computer Science Applications', 'Health Information Management',\n",
       "       'Instrumentation', 'Applied Psychology',\n",
       "       'Literature and Literary Theory', 'General Decision Sciences',\n",
       "       'Computer Networks and Communications', 'Dermatology',\n",
       "       'Developmental Neuroscience',\n",
       "       'Experimental and Cognitive Psychology', 'History',\n",
       "       'Mechanics of Materials', 'Health', 'Environmental Chemistry',\n",
       "       'General Health Professions', 'Media Technology',\n",
       "       'Organic Chemistry', 'Signal Processing', 'Virology',\n",
       "       'Atmospheric Science', 'Water Science and Technology',\n",
       "       'Geography, Planning and Development', 'Strategy and Management',\n",
       "       'General Social Sciences', 'Orthopedics and Sports Medicine',\n",
       "       'Oceanography', 'Food Science', 'Aging', 'Ophthalmology',\n",
       "       'Mathematical Physics', 'Endocrinology',\n",
       "       'Discrete Mathematics and Combinatorics', 'Software',\n",
       "       'Cultural Studies', 'Insect Science', 'Radiation',\n",
       "       'Agronomy and Crop Science',\n",
       "       'Management, Monitoring, Policy and Law', 'Public Administration',\n",
       "       'Soil Science', 'Catalysis', 'Paleontology', 'Marketing',\n",
       "       'Bioengineering', 'Physical and Theoretical Chemistry',\n",
       "       'Electrochemistry', 'Building and Construction', 'Rehabilitation',\n",
       "       'Computational Mathematics', 'Visual Arts and Performing Arts',\n",
       "       'Biomaterials', 'Radiological and Ultrasound Technology',\n",
       "       'Geometry and Topology', 'Microbiology', 'Applied Mathematics',\n",
       "       'Organizational Behavior and Human Resource Management',\n",
       "       'Demography', 'Family Practice',\n",
       "       'Physical Therapy, Sports Therapy and Rehabilitation',\n",
       "       'Periodontics', 'Biotechnology', 'Parasitology',\n",
       "       'Ecological Modeling', 'Anesthesiology and Pain Medicine',\n",
       "       'Management of Technology and Innovation', 'Pollution',\n",
       "       'Reproductive Medicine', 'General Psychology',\n",
       "       'Energy Engineering and Power Technology', 'Transportation',\n",
       "       'Urology', 'Behavioral Neuroscience',\n",
       "       'Critical Care and Intensive Care Medicine', 'Development',\n",
       "       'Aquatic Science', 'Conservation', 'Emergency Medicine',\n",
       "       'Language and Linguistics', 'Clinical Biochemistry',\n",
       "       'Biological Psychiatry', 'Management Information Systems',\n",
       "       'Acoustics and Ultrasonics', 'Emergency Medical Services',\n",
       "       'Transplantation', 'Anthropology', 'Ceramics and Composites',\n",
       "       'History and Philosophy of Science', 'Occupational Therapy',\n",
       "       'Developmental Biology', 'Toxicology', 'Earth-Surface Processes',\n",
       "       'Surfaces, Coatings and Films', 'Geriatrics and Gerontology',\n",
       "       'General Dentistry', 'Oral Surgery',\n",
       "       'Safety, Risk, Reliability and Quality',\n",
       "       'Geochemistry and Petrology', 'Internal Medicine', 'Philosophy',\n",
       "       'Pharmacy', 'Archeology', 'Molecular Medicine',\n",
       "       'General Agricultural and Biological Sciences',\n",
       "       'Process Chemistry and Technology', 'Urban Studies',\n",
       "       'Animal Science and Zoology', 'Small Animals', 'Museology',\n",
       "       'Tourism, Leisure and Hospitality Management',\n",
       "       'Chemical Health and Safety',\n",
       "       'Applied Microbiology and Biotechnology',\n",
       "       'Theoretical Computer Science', 'Nuclear Energy and Engineering',\n",
       "       'Fluid Flow and Transfer Processes', 'Classics',\n",
       "       'Analytical Chemistry', 'Business and International Management',\n",
       "       'Law', 'Music', 'Pharmaceutical Science',\n",
       "       'Linguistics and Language'], dtype=object)"
      ]
     },
     "execution_count": 6,
     "metadata": {},
     "output_type": "execute_result"
    }
   ],
   "source": [
    "fields = df['field'].dropna().unique()\n",
    "fields"
   ]
  },
  {
   "cell_type": "markdown",
   "id": "29c505a0-d11a-4bac-af35-cc006cabd228",
   "metadata": {},
   "source": [
    "Select 3 preprints for each field as long a it has at least 10 matching preprints:"
   ]
  },
  {
   "cell_type": "code",
   "execution_count": 9,
   "id": "55d1b8f9-f47a-4351-b522-5c952b803630",
   "metadata": {},
   "outputs": [
    {
     "data": {
      "text/html": [
       "<div>\n",
       "<style scoped>\n",
       "    .dataframe tbody tr th:only-of-type {\n",
       "        vertical-align: middle;\n",
       "    }\n",
       "\n",
       "    .dataframe tbody tr th {\n",
       "        vertical-align: top;\n",
       "    }\n",
       "\n",
       "    .dataframe thead th {\n",
       "        text-align: right;\n",
       "    }\n",
       "</style>\n",
       "<table border=\"1\" class=\"dataframe\">\n",
       "  <thead>\n",
       "    <tr style=\"text-align: right;\">\n",
       "      <th></th>\n",
       "      <th>id</th>\n",
       "      <th>title</th>\n",
       "      <th>url</th>\n",
       "      <th>field</th>\n",
       "    </tr>\n",
       "  </thead>\n",
       "  <tbody>\n",
       "    <tr>\n",
       "      <th>31373</th>\n",
       "      <td>https://openalex.org/W4394843835</td>\n",
       "      <td>Single-nuclei histone modification profiling o...</td>\n",
       "      <td>https://storage.cloud.google.com/cloud-ai-plat...</td>\n",
       "      <td>Molecular Biology</td>\n",
       "    </tr>\n",
       "    <tr>\n",
       "      <th>26147</th>\n",
       "      <td>https://openalex.org/W3013783484</td>\n",
       "      <td>Dynamical model of the CLC-2 ion channel revea...</td>\n",
       "      <td>https://storage.cloud.google.com/cloud-ai-plat...</td>\n",
       "      <td>Molecular Biology</td>\n",
       "    </tr>\n",
       "    <tr>\n",
       "      <th>38874</th>\n",
       "      <td>https://openalex.org/W2945212438</td>\n",
       "      <td>easyCLIP Quantifies RNA-Protein Interactions a...</td>\n",
       "      <td>https://storage.cloud.google.com/cloud-ai-plat...</td>\n",
       "      <td>Molecular Biology</td>\n",
       "    </tr>\n",
       "    <tr>\n",
       "      <th>18516</th>\n",
       "      <td>https://openalex.org/W2901173781</td>\n",
       "      <td>Moderate-to-High Levels of Pretreatment HIV Dr...</td>\n",
       "      <td>https://storage.cloud.google.com/cloud-ai-plat...</td>\n",
       "      <td>Infectious Diseases</td>\n",
       "    </tr>\n",
       "    <tr>\n",
       "      <th>19080</th>\n",
       "      <td>https://openalex.org/W4390722339</td>\n",
       "      <td>Risk of Emergent Dolutegravir Resistance Mutat...</td>\n",
       "      <td>https://storage.cloud.google.com/cloud-ai-plat...</td>\n",
       "      <td>Infectious Diseases</td>\n",
       "    </tr>\n",
       "    <tr>\n",
       "      <th>...</th>\n",
       "      <td>...</td>\n",
       "      <td>...</td>\n",
       "      <td>...</td>\n",
       "      <td>...</td>\n",
       "    </tr>\n",
       "    <tr>\n",
       "      <th>32295</th>\n",
       "      <td>https://openalex.org/W4245851024</td>\n",
       "      <td>Interventions to reduce meat consumption by ap...</td>\n",
       "      <td>https://storage.cloud.google.com/cloud-ai-plat...</td>\n",
       "      <td>Small Animals</td>\n",
       "    </tr>\n",
       "    <tr>\n",
       "      <th>35154</th>\n",
       "      <td>https://openalex.org/W4226053155</td>\n",
       "      <td>The Effects of Exposure to Information About A...</td>\n",
       "      <td>https://storage.cloud.google.com/cloud-ai-plat...</td>\n",
       "      <td>Small Animals</td>\n",
       "    </tr>\n",
       "    <tr>\n",
       "      <th>45345</th>\n",
       "      <td>https://openalex.org/W3142474082</td>\n",
       "      <td>The Politics of Judicial Reform</td>\n",
       "      <td>https://storage.cloud.google.com/cloud-ai-plat...</td>\n",
       "      <td>Law</td>\n",
       "    </tr>\n",
       "    <tr>\n",
       "      <th>45513</th>\n",
       "      <td>https://openalex.org/W4214588293</td>\n",
       "      <td>The New Judicial Governance: Courts, Data, and...</td>\n",
       "      <td>https://storage.cloud.google.com/cloud-ai-plat...</td>\n",
       "      <td>Law</td>\n",
       "    </tr>\n",
       "    <tr>\n",
       "      <th>46005</th>\n",
       "      <td>https://openalex.org/W4296103990</td>\n",
       "      <td>Selecting For Extremists: Evaluating the Impac...</td>\n",
       "      <td>https://storage.cloud.google.com/cloud-ai-plat...</td>\n",
       "      <td>Law</td>\n",
       "    </tr>\n",
       "  </tbody>\n",
       "</table>\n",
       "<p>576 rows × 4 columns</p>\n",
       "</div>"
      ],
      "text/plain": [
       "                                     id  \\\n",
       "31373  https://openalex.org/W4394843835   \n",
       "26147  https://openalex.org/W3013783484   \n",
       "38874  https://openalex.org/W2945212438   \n",
       "18516  https://openalex.org/W2901173781   \n",
       "19080  https://openalex.org/W4390722339   \n",
       "...                                 ...   \n",
       "32295  https://openalex.org/W4245851024   \n",
       "35154  https://openalex.org/W4226053155   \n",
       "45345  https://openalex.org/W3142474082   \n",
       "45513  https://openalex.org/W4214588293   \n",
       "46005  https://openalex.org/W4296103990   \n",
       "\n",
       "                                                   title  \\\n",
       "31373  Single-nuclei histone modification profiling o...   \n",
       "26147  Dynamical model of the CLC-2 ion channel revea...   \n",
       "38874  easyCLIP Quantifies RNA-Protein Interactions a...   \n",
       "18516  Moderate-to-High Levels of Pretreatment HIV Dr...   \n",
       "19080  Risk of Emergent Dolutegravir Resistance Mutat...   \n",
       "...                                                  ...   \n",
       "32295  Interventions to reduce meat consumption by ap...   \n",
       "35154  The Effects of Exposure to Information About A...   \n",
       "45345                    The Politics of Judicial Reform   \n",
       "45513  The New Judicial Governance: Courts, Data, and...   \n",
       "46005  Selecting For Extremists: Evaluating the Impac...   \n",
       "\n",
       "                                                     url                field  \n",
       "31373  https://storage.cloud.google.com/cloud-ai-plat...    Molecular Biology  \n",
       "26147  https://storage.cloud.google.com/cloud-ai-plat...    Molecular Biology  \n",
       "38874  https://storage.cloud.google.com/cloud-ai-plat...    Molecular Biology  \n",
       "18516  https://storage.cloud.google.com/cloud-ai-plat...  Infectious Diseases  \n",
       "19080  https://storage.cloud.google.com/cloud-ai-plat...  Infectious Diseases  \n",
       "...                                                  ...                  ...  \n",
       "32295  https://storage.cloud.google.com/cloud-ai-plat...        Small Animals  \n",
       "35154  https://storage.cloud.google.com/cloud-ai-plat...        Small Animals  \n",
       "45345  https://storage.cloud.google.com/cloud-ai-plat...                  Law  \n",
       "45513  https://storage.cloud.google.com/cloud-ai-plat...                  Law  \n",
       "46005  https://storage.cloud.google.com/cloud-ai-plat...                  Law  \n",
       "\n",
       "[576 rows x 4 columns]"
      ]
     },
     "execution_count": 9,
     "metadata": {},
     "output_type": "execute_result"
    }
   ],
   "source": [
    "sample = pandas.DataFrame(columns=[\"id\", \"title\", \"url\", \"field\"])\n",
    "\n",
    "for field in fields:\n",
    "    field_df = df[df.field == field]\n",
    "    # only include if there are enough papers\n",
    "    if len(field_df) > 3:\n",
    "        s = field_df.sample(3)\n",
    "        sample = pandas.concat([sample, s[[\"id\", \"title\", \"url\", \"field\"]]])\n",
    "\n",
    "sample"
   ]
  },
  {
   "cell_type": "code",
   "execution_count": 10,
   "id": "abb84ea7-54af-4ddf-a456-e9192d8c8762",
   "metadata": {},
   "outputs": [],
   "source": [
    "sample.to_csv('data/benchmark.csv', index=False)"
   ]
  }
 ],
 "metadata": {
  "kernelspec": {
   "display_name": "Python 3 (ipykernel)",
   "language": "python",
   "name": "python3"
  },
  "language_info": {
   "codemirror_mode": {
    "name": "ipython",
    "version": 3
   },
   "file_extension": ".py",
   "mimetype": "text/x-python",
   "name": "python",
   "nbconvert_exporter": "python",
   "pygments_lexer": "ipython3",
   "version": "3.12.6"
  }
 },
 "nbformat": 4,
 "nbformat_minor": 5
}
