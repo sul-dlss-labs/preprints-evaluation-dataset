{
  "cells": [
    {
      "cell_type": "code",
      "source": [
        "! pip3 install --upgrade --user google-cloud-aiplatform"
      ],
      "metadata": {
        "colab": {
          "base_uri": "https://localhost:8080/",
          "height": 870
        },
        "collapsed": true,
        "id": "K6UFFNqmr_v8",
        "executionInfo": {
          "status": "ok",
          "timestamp": 1727125333376,
          "user_tz": 300,
          "elapsed": 15043,
          "user": {
            "displayName": "",
            "userId": ""
          }
        },
        "outputId": "e9abbf79-3d65-4b03-8e69-6dacd21db7ca"
      },
      "id": "K6UFFNqmr_v8",
      "execution_count": 1,
      "outputs": [
        {
          "output_type": "stream",
          "name": "stdout",
          "text": [
            "Requirement already satisfied: google-cloud-aiplatform in /usr/local/lib/python3.10/dist-packages (1.65.0)\n",
            "Collecting google-cloud-aiplatform\n",
            "  Downloading google_cloud_aiplatform-1.67.1-py2.py3-none-any.whl.metadata (32 kB)\n",
            "Requirement already satisfied: google-api-core!=2.0.*,!=2.1.*,!=2.2.*,!=2.3.*,!=2.4.*,!=2.5.*,!=2.6.*,!=2.7.*,<3.0.0dev,>=1.34.1 in /usr/local/lib/python3.10/dist-packages (from google-api-core[grpc]!=2.0.*,!=2.1.*,!=2.2.*,!=2.3.*,!=2.4.*,!=2.5.*,!=2.6.*,!=2.7.*,<3.0.0dev,>=1.34.1->google-cloud-aiplatform) (2.19.2)\n",
            "Requirement already satisfied: google-auth<3.0.0dev,>=2.14.1 in /usr/local/lib/python3.10/dist-packages (from google-cloud-aiplatform) (2.27.0)\n",
            "Requirement already satisfied: proto-plus<2.0.0dev,>=1.22.3 in /usr/local/lib/python3.10/dist-packages (from google-cloud-aiplatform) (1.24.0)\n",
            "Requirement already satisfied: protobuf!=4.21.0,!=4.21.1,!=4.21.2,!=4.21.3,!=4.21.4,!=4.21.5,<6.0.0dev,>=3.20.2 in /usr/local/lib/python3.10/dist-packages (from google-cloud-aiplatform) (3.20.3)\n",
            "Requirement already satisfied: packaging>=14.3 in /usr/local/lib/python3.10/dist-packages (from google-cloud-aiplatform) (24.1)\n",
            "Requirement already satisfied: google-cloud-storage<3.0.0dev,>=1.32.0 in /usr/local/lib/python3.10/dist-packages (from google-cloud-aiplatform) (2.8.0)\n",
            "Requirement already satisfied: google-cloud-bigquery!=3.20.0,<4.0.0dev,>=1.15.0 in /usr/local/lib/python3.10/dist-packages (from google-cloud-aiplatform) (3.25.0)\n",
            "Requirement already satisfied: google-cloud-resource-manager<3.0.0dev,>=1.3.3 in /usr/local/lib/python3.10/dist-packages (from google-cloud-aiplatform) (1.12.5)\n",
            "Requirement already satisfied: shapely<3.0.0dev in /usr/local/lib/python3.10/dist-packages (from google-cloud-aiplatform) (2.0.6)\n",
            "Requirement already satisfied: pydantic<3 in /usr/local/lib/python3.10/dist-packages (from google-cloud-aiplatform) (1.10.18)\n",
            "Requirement already satisfied: docstring-parser<1 in /usr/local/lib/python3.10/dist-packages (from google-cloud-aiplatform) (0.16)\n",
            "Requirement already satisfied: googleapis-common-protos<2.0.dev0,>=1.56.2 in /usr/local/lib/python3.10/dist-packages (from google-api-core!=2.0.*,!=2.1.*,!=2.2.*,!=2.3.*,!=2.4.*,!=2.5.*,!=2.6.*,!=2.7.*,<3.0.0dev,>=1.34.1->google-api-core[grpc]!=2.0.*,!=2.1.*,!=2.2.*,!=2.3.*,!=2.4.*,!=2.5.*,!=2.6.*,!=2.7.*,<3.0.0dev,>=1.34.1->google-cloud-aiplatform) (1.65.0)\n",
            "Requirement already satisfied: requests<3.0.0.dev0,>=2.18.0 in /usr/local/lib/python3.10/dist-packages (from google-api-core!=2.0.*,!=2.1.*,!=2.2.*,!=2.3.*,!=2.4.*,!=2.5.*,!=2.6.*,!=2.7.*,<3.0.0dev,>=1.34.1->google-api-core[grpc]!=2.0.*,!=2.1.*,!=2.2.*,!=2.3.*,!=2.4.*,!=2.5.*,!=2.6.*,!=2.7.*,<3.0.0dev,>=1.34.1->google-cloud-aiplatform) (2.32.3)\n",
            "Requirement already satisfied: grpcio<2.0dev,>=1.33.2 in /usr/local/lib/python3.10/dist-packages (from google-api-core[grpc]!=2.0.*,!=2.1.*,!=2.2.*,!=2.3.*,!=2.4.*,!=2.5.*,!=2.6.*,!=2.7.*,<3.0.0dev,>=1.34.1->google-cloud-aiplatform) (1.64.1)\n",
            "Requirement already satisfied: grpcio-status<2.0.dev0,>=1.33.2 in /usr/local/lib/python3.10/dist-packages (from google-api-core[grpc]!=2.0.*,!=2.1.*,!=2.2.*,!=2.3.*,!=2.4.*,!=2.5.*,!=2.6.*,!=2.7.*,<3.0.0dev,>=1.34.1->google-cloud-aiplatform) (1.48.2)\n",
            "Requirement already satisfied: cachetools<6.0,>=2.0.0 in /usr/local/lib/python3.10/dist-packages (from google-auth<3.0.0dev,>=2.14.1->google-cloud-aiplatform) (5.5.0)\n",
            "Requirement already satisfied: pyasn1-modules>=0.2.1 in /usr/local/lib/python3.10/dist-packages (from google-auth<3.0.0dev,>=2.14.1->google-cloud-aiplatform) (0.4.0)\n",
            "Requirement already satisfied: rsa<5,>=3.1.4 in /usr/local/lib/python3.10/dist-packages (from google-auth<3.0.0dev,>=2.14.1->google-cloud-aiplatform) (4.9)\n",
            "Requirement already satisfied: google-cloud-core<3.0.0dev,>=1.6.0 in /usr/local/lib/python3.10/dist-packages (from google-cloud-bigquery!=3.20.0,<4.0.0dev,>=1.15.0->google-cloud-aiplatform) (2.4.1)\n",
            "Requirement already satisfied: google-resumable-media<3.0dev,>=0.6.0 in /usr/local/lib/python3.10/dist-packages (from google-cloud-bigquery!=3.20.0,<4.0.0dev,>=1.15.0->google-cloud-aiplatform) (2.7.2)\n",
            "Requirement already satisfied: python-dateutil<3.0dev,>=2.7.2 in /usr/local/lib/python3.10/dist-packages (from google-cloud-bigquery!=3.20.0,<4.0.0dev,>=1.15.0->google-cloud-aiplatform) (2.8.2)\n",
            "Requirement already satisfied: grpc-google-iam-v1<1.0.0dev,>=0.12.4 in /usr/local/lib/python3.10/dist-packages (from google-cloud-resource-manager<3.0.0dev,>=1.3.3->google-cloud-aiplatform) (0.13.1)\n",
            "Requirement already satisfied: typing-extensions>=4.2.0 in /usr/local/lib/python3.10/dist-packages (from pydantic<3->google-cloud-aiplatform) (4.12.2)\n",
            "Requirement already satisfied: numpy<3,>=1.14 in /usr/local/lib/python3.10/dist-packages (from shapely<3.0.0dev->google-cloud-aiplatform) (1.26.4)\n",
            "Requirement already satisfied: google-crc32c<2.0dev,>=1.0 in /usr/local/lib/python3.10/dist-packages (from google-resumable-media<3.0dev,>=0.6.0->google-cloud-bigquery!=3.20.0,<4.0.0dev,>=1.15.0->google-cloud-aiplatform) (1.6.0)\n",
            "Requirement already satisfied: pyasn1<0.7.0,>=0.4.6 in /usr/local/lib/python3.10/dist-packages (from pyasn1-modules>=0.2.1->google-auth<3.0.0dev,>=2.14.1->google-cloud-aiplatform) (0.6.0)\n",
            "Requirement already satisfied: six>=1.5 in /usr/local/lib/python3.10/dist-packages (from python-dateutil<3.0dev,>=2.7.2->google-cloud-bigquery!=3.20.0,<4.0.0dev,>=1.15.0->google-cloud-aiplatform) (1.16.0)\n",
            "Requirement already satisfied: charset-normalizer<4,>=2 in /usr/local/lib/python3.10/dist-packages (from requests<3.0.0.dev0,>=2.18.0->google-api-core!=2.0.*,!=2.1.*,!=2.2.*,!=2.3.*,!=2.4.*,!=2.5.*,!=2.6.*,!=2.7.*,<3.0.0dev,>=1.34.1->google-api-core[grpc]!=2.0.*,!=2.1.*,!=2.2.*,!=2.3.*,!=2.4.*,!=2.5.*,!=2.6.*,!=2.7.*,<3.0.0dev,>=1.34.1->google-cloud-aiplatform) (3.3.2)\n",
            "Requirement already satisfied: idna<4,>=2.5 in /usr/local/lib/python3.10/dist-packages (from requests<3.0.0.dev0,>=2.18.0->google-api-core!=2.0.*,!=2.1.*,!=2.2.*,!=2.3.*,!=2.4.*,!=2.5.*,!=2.6.*,!=2.7.*,<3.0.0dev,>=1.34.1->google-api-core[grpc]!=2.0.*,!=2.1.*,!=2.2.*,!=2.3.*,!=2.4.*,!=2.5.*,!=2.6.*,!=2.7.*,<3.0.0dev,>=1.34.1->google-cloud-aiplatform) (3.8)\n",
            "Requirement already satisfied: urllib3<3,>=1.21.1 in /usr/local/lib/python3.10/dist-packages (from requests<3.0.0.dev0,>=2.18.0->google-api-core!=2.0.*,!=2.1.*,!=2.2.*,!=2.3.*,!=2.4.*,!=2.5.*,!=2.6.*,!=2.7.*,<3.0.0dev,>=1.34.1->google-api-core[grpc]!=2.0.*,!=2.1.*,!=2.2.*,!=2.3.*,!=2.4.*,!=2.5.*,!=2.6.*,!=2.7.*,<3.0.0dev,>=1.34.1->google-cloud-aiplatform) (2.0.7)\n",
            "Requirement already satisfied: certifi>=2017.4.17 in /usr/local/lib/python3.10/dist-packages (from requests<3.0.0.dev0,>=2.18.0->google-api-core!=2.0.*,!=2.1.*,!=2.2.*,!=2.3.*,!=2.4.*,!=2.5.*,!=2.6.*,!=2.7.*,<3.0.0dev,>=1.34.1->google-api-core[grpc]!=2.0.*,!=2.1.*,!=2.2.*,!=2.3.*,!=2.4.*,!=2.5.*,!=2.6.*,!=2.7.*,<3.0.0dev,>=1.34.1->google-cloud-aiplatform) (2024.8.30)\n",
            "Downloading google_cloud_aiplatform-1.67.1-py2.py3-none-any.whl (5.2 MB)\n",
            "\u001b[2K   \u001b[90m━━━━━━━━━━━━━━━━━━━━━━━━━━━━━━━━━━━━━━━━\u001b[0m \u001b[32m5.2/5.2 MB\u001b[0m \u001b[31m18.3 MB/s\u001b[0m eta \u001b[36m0:00:00\u001b[0m\n",
            "\u001b[?25hInstalling collected packages: google-cloud-aiplatform\n",
            "\u001b[33m  WARNING: The script tb-gcp-uploader is installed in '/root/.local/bin' which is not on PATH.\n",
            "  Consider adding this directory to PATH or, if you prefer to suppress this warning, use --no-warn-script-location.\u001b[0m\u001b[33m\n",
            "\u001b[0mSuccessfully installed google-cloud-aiplatform-1.67.1\n"
          ]
        },
        {
          "output_type": "display_data",
          "data": {
            "application/vnd.colab-display-data+json": {
              "pip_warning": {
                "packages": [
                  "google"
                ]
              },
              "id": "0a4909cc42fe416aa7d2fff7e45ac5d9"
            }
          },
          "metadata": {}
        }
      ]
    },
    {
      "cell_type": "code",
      "source": [
        "from google.cloud import storage\n",
        "\n",
        "BUCKET_NAME = \"cloud-ai-platform-e215f7f7-a526-4a66-902d-eb69384ef0c4\"\n",
        "storage_client = storage.Client()\n",
        "bucket = storage_client.bucket(BUCKET_NAME)"
      ],
      "metadata": {
        "id": "9z34BdoQsJY2",
        "executionInfo": {
          "status": "ok",
          "timestamp": 1727197587674,
          "user_tz": 300,
          "elapsed": 886,
          "user": {
            "displayName": "",
            "userId": ""
          }
        }
      },
      "id": "9z34BdoQsJY2",
      "execution_count": 2,
      "outputs": []
    },
    {
      "cell_type": "code",
      "source": [
        "import vertexai\n",
        "from vertexai.generative_models import (\n",
        "    GenerationConfig,\n",
        "    GenerativeModel,\n",
        "    Part,\n",
        "    HarmCategory,\n",
        "    HarmBlockThreshold,\n",
        ")\n",
        "model = GenerativeModel(\"gemini-1.0-pro-vision\")\n",
        "\n",
        "model = GenerativeModel(\n",
        "    \"gemini-1.5-flash\",\n",
        "    safety_settings={\n",
        "        HarmCategory.HARM_CATEGORY_DANGEROUS_CONTENT: HarmBlockThreshold.BLOCK_ONLY_HIGH\n",
        "    },\n",
        ")\n",
        "\n",
        "# Define project information\n",
        "PROJECT_ID = \"sul-ai-sandbox\"  # @param {type:\"string\"}\n",
        "LOCATION = \"us-central1\"  # @param {type:\"string\"}\n",
        "\n",
        "# Initialize Vertex AI\n",
        "vertexai.init(project=PROJECT_ID, location=LOCATION)\n",
        "\n",
        "# This Generation Config sets the model to respond in JSON format.\n",
        "generation_config = GenerationConfig(\n",
        "    temperature=0.0, response_mime_type=\"application/json\"\n",
        ")\n",
        "\n",
        "PDF_MIME_TYPE = \"application/pdf\"\n",
        "\n",
        "# Send Google Cloud Storage Document to Vertex AI\n",
        "def process_document(\n",
        "    prompt: str,\n",
        "    file_uri: str,\n",
        "    mime_type: str = PDF_MIME_TYPE,\n",
        "    generation_config: GenerationConfig | None = None,\n",
        ") -> str:\n",
        "    # Load file directly from Google Cloud Storage\n",
        "    file_part = Part.from_uri(\n",
        "        uri=file_uri,\n",
        "        mime_type=mime_type,\n",
        "    )\n",
        "\n",
        "    # Load contents\n",
        "    contents = [file_part, prompt]\n",
        "\n",
        "    # Send to Gemini\n",
        "    response = model.generate_content(contents, generation_config=generation_config)\n",
        "\n",
        "    return response.text"
      ],
      "metadata": {
        "id": "1rKm5jIjy6Jl",
        "executionInfo": {
          "status": "ok",
          "timestamp": 1727197593401,
          "user_tz": 300,
          "elapsed": 4761,
          "user": {
            "displayName": "",
            "userId": ""
          }
        }
      },
      "id": "1rKm5jIjy6Jl",
      "execution_count": 3,
      "outputs": []
    },
    {
      "cell_type": "code",
      "id": "AqWQ4EuLlwy0G08mHXnhqufP",
      "metadata": {
        "tags": [],
        "id": "AqWQ4EuLlwy0G08mHXnhqufP",
        "colab": {
          "base_uri": "https://localhost:8080/"
        },
        "executionInfo": {
          "status": "ok",
          "timestamp": 1727199377972,
          "user_tz": 300,
          "elapsed": 447739,
          "user": {
            "displayName": "",
            "userId": ""
          }
        },
        "outputId": "3d182fb1-cab1-4ad3-a6c0-121951f5bd60"
      },
      "source": [
        "import csv\n",
        "\n",
        "DIR = 'preprints/'\n",
        "FILENAME = f'{DIR}records.csv'\n",
        "\n",
        "prompt = \"\"\"\n",
        "Format all responses as valid JSON.\n",
        "Examine this article and extract the following data:\n",
        "The title of the article.\n",
        "The list of authors split into first and last name. The first name may include any initials or middle names as well. Use \"first\" and \"last\" as the JSON keys for the name.\n",
        "The abstract if it is explicitly provided. Do not try to generate an abstract unless it is present.\n",
        "The list of keywords if they are explicitly provided. Do not try to generate keywords unless they are present.\n",
        "\n",
        "If any of the requested data can not be found, represent it as null in the JSON.\n",
        "\"\"\"\n",
        "\n",
        "blob = bucket.blob(FILENAME)\n",
        "with blob.open() as csvfile:\n",
        "  reader = csv.reader(csvfile)\n",
        "  next(reader) # skip headers\n",
        "  for row in reader:\n",
        "    filename = row[1].removeprefix(\"https://storage.cloud.google.com/\")\n",
        "    pdf_file = Part.from_uri(\n",
        "      uri=f'gs://{filename}',\n",
        "      mime_type=\"application/pdf\",\n",
        "    )\n",
        "    print(filename)\n",
        "    result = process_document(prompt, f'gs://{filename}', generation_config=generation_config)\n",
        "    alex_id = row[0].removeprefix(\"https://openalex.org/\")\n",
        "    blob = bucket.blob(f'preprints/results-gemini-1.5-flash/{alex_id}.json')\n",
        "    with blob.open(\"w\") as f:\n",
        "      f.write(result)\n"
      ],
      "execution_count": 5,
      "outputs": [
        {
          "output_type": "stream",
          "name": "stdout",
          "text": [
            "cloud-ai-platform-e215f7f7-a526-4a66-902d-eb69384ef0c4/preprints/arxiv.org/W2988715931.pdf\n",
            "cloud-ai-platform-e215f7f7-a526-4a66-902d-eb69384ef0c4/preprints/arxiv.org/W3202546816.pdf\n",
            "cloud-ai-platform-e215f7f7-a526-4a66-902d-eb69384ef0c4/preprints/osf.io/W4212832069.pdf\n",
            "cloud-ai-platform-e215f7f7-a526-4a66-902d-eb69384ef0c4/preprints/discovery.ucl.ac.uk/W2901173781.pdf\n",
            "cloud-ai-platform-e215f7f7-a526-4a66-902d-eb69384ef0c4/preprints/www.biorxiv.org/W3013783484.pdf\n",
            "cloud-ai-platform-e215f7f7-a526-4a66-902d-eb69384ef0c4/preprints/eartharxiv.org/W4226140866.pdf\n",
            "cloud-ai-platform-e215f7f7-a526-4a66-902d-eb69384ef0c4/preprints/www.biorxiv.org/W4399283731.pdf\n",
            "cloud-ai-platform-e215f7f7-a526-4a66-902d-eb69384ef0c4/preprints/arxiv.org/W3126527592.pdf\n",
            "cloud-ai-platform-e215f7f7-a526-4a66-902d-eb69384ef0c4/preprints/escholarship.org/W3093048371.pdf\n",
            "cloud-ai-platform-e215f7f7-a526-4a66-902d-eb69384ef0c4/preprints/escholarship.org/W4205859241.pdf\n",
            "cloud-ai-platform-e215f7f7-a526-4a66-902d-eb69384ef0c4/preprints/www.medrxiv.org/W4322154575.pdf\n",
            "cloud-ai-platform-e215f7f7-a526-4a66-902d-eb69384ef0c4/preprints/www.researchsquare.com/W4297341531.pdf\n",
            "cloud-ai-platform-e215f7f7-a526-4a66-902d-eb69384ef0c4/preprints/www.medrxiv.org/W4393156923.pdf\n",
            "cloud-ai-platform-e215f7f7-a526-4a66-902d-eb69384ef0c4/preprints/escholarship.org/W3000588783.pdf\n",
            "cloud-ai-platform-e215f7f7-a526-4a66-902d-eb69384ef0c4/preprints/www.medrxiv.org/W3091235616.pdf\n",
            "cloud-ai-platform-e215f7f7-a526-4a66-902d-eb69384ef0c4/preprints/preprints.apsanet.org/W4296103990.pdf\n",
            "cloud-ai-platform-e215f7f7-a526-4a66-902d-eb69384ef0c4/preprints/ora.ox.ac.uk/W3170856023.pdf\n",
            "cloud-ai-platform-e215f7f7-a526-4a66-902d-eb69384ef0c4/preprints/arxiv.org/W3164284701.pdf\n",
            "cloud-ai-platform-e215f7f7-a526-4a66-902d-eb69384ef0c4/preprints/arxiv.org/W3183339884.pdf\n",
            "cloud-ai-platform-e215f7f7-a526-4a66-902d-eb69384ef0c4/preprints/www.researchsquare.com/W4393028888.pdf\n",
            "cloud-ai-platform-e215f7f7-a526-4a66-902d-eb69384ef0c4/preprints/www.researchsquare.com/W4394813096.pdf\n",
            "cloud-ai-platform-e215f7f7-a526-4a66-902d-eb69384ef0c4/preprints/chemrxiv.org/W4304614191.pdf\n",
            "cloud-ai-platform-e215f7f7-a526-4a66-902d-eb69384ef0c4/preprints/inria.hal.science/W4386128506.pdf\n",
            "cloud-ai-platform-e215f7f7-a526-4a66-902d-eb69384ef0c4/preprints/osf.io/W4376255784.pdf\n",
            "cloud-ai-platform-e215f7f7-a526-4a66-902d-eb69384ef0c4/preprints/arxiv.org/W3177095392.pdf\n",
            "cloud-ai-platform-e215f7f7-a526-4a66-902d-eb69384ef0c4/preprints/www.researchsquare.com/W3133101250.pdf\n",
            "cloud-ai-platform-e215f7f7-a526-4a66-902d-eb69384ef0c4/preprints/preprints.apsanet.org/W3045625995.pdf\n",
            "cloud-ai-platform-e215f7f7-a526-4a66-902d-eb69384ef0c4/preprints/www.lenus.ie/W2890142544.pdf\n",
            "cloud-ai-platform-e215f7f7-a526-4a66-902d-eb69384ef0c4/preprints/eartharxiv.org/W4250899323.pdf\n",
            "cloud-ai-platform-e215f7f7-a526-4a66-902d-eb69384ef0c4/preprints/osf.io/W4385565029.pdf\n",
            "cloud-ai-platform-e215f7f7-a526-4a66-902d-eb69384ef0c4/preprints/arxiv.org/W3124742002.pdf\n",
            "cloud-ai-platform-e215f7f7-a526-4a66-902d-eb69384ef0c4/preprints/arxiv.org/W3178821884.pdf\n",
            "cloud-ai-platform-e215f7f7-a526-4a66-902d-eb69384ef0c4/preprints/www.medrxiv.org/W3021395141.pdf\n",
            "cloud-ai-platform-e215f7f7-a526-4a66-902d-eb69384ef0c4/preprints/arxiv.org/W3035272603.pdf\n",
            "cloud-ai-platform-e215f7f7-a526-4a66-902d-eb69384ef0c4/preprints/www.researchsquare.com/W4247150207.pdf\n",
            "cloud-ai-platform-e215f7f7-a526-4a66-902d-eb69384ef0c4/preprints/www.medrxiv.org/W3007313800.pdf\n",
            "cloud-ai-platform-e215f7f7-a526-4a66-902d-eb69384ef0c4/preprints/osf.io/W4245851024.pdf\n",
            "cloud-ai-platform-e215f7f7-a526-4a66-902d-eb69384ef0c4/preprints/www.biorxiv.org/W4401157222.pdf\n",
            "cloud-ai-platform-e215f7f7-a526-4a66-902d-eb69384ef0c4/preprints/arxiv.org/W3005397613.pdf\n",
            "cloud-ai-platform-e215f7f7-a526-4a66-902d-eb69384ef0c4/preprints/arxiv.org/W3116436840.pdf\n",
            "cloud-ai-platform-e215f7f7-a526-4a66-902d-eb69384ef0c4/preprints/www.medrxiv.org/W3174061332.pdf\n",
            "cloud-ai-platform-e215f7f7-a526-4a66-902d-eb69384ef0c4/preprints/arxiv.org/W3199353954.pdf\n",
            "cloud-ai-platform-e215f7f7-a526-4a66-902d-eb69384ef0c4/preprints/arxiv.org/W3205417062.pdf\n",
            "cloud-ai-platform-e215f7f7-a526-4a66-902d-eb69384ef0c4/preprints/arxiv.org/W3025420576.pdf\n",
            "cloud-ai-platform-e215f7f7-a526-4a66-902d-eb69384ef0c4/preprints/publikationen.ub.uni-frankfurt.de/W4313482304.pdf\n",
            "cloud-ai-platform-e215f7f7-a526-4a66-902d-eb69384ef0c4/preprints/www.frbsf.org/W2919371474.pdf\n",
            "cloud-ai-platform-e215f7f7-a526-4a66-902d-eb69384ef0c4/preprints/osf.io/W4386513944.pdf\n",
            "cloud-ai-platform-e215f7f7-a526-4a66-902d-eb69384ef0c4/preprints/escholarship.org/W3087573264.pdf\n"
          ]
        }
      ]
    },
    {
      "cell_type": "code",
      "source": [],
      "metadata": {
        "id": "W1HBC0plsvGW"
      },
      "id": "W1HBC0plsvGW",
      "execution_count": null,
      "outputs": []
    }
  ],
  "metadata": {
    "kernelspec": {
      "display_name": "Python 3",
      "language": "python",
      "name": "python3"
    },
    "language_info": {
      "codemirror_mode": {
        "name": "ipython",
        "version": 3
      },
      "file_extension": ".py",
      "mimetype": "text/x-python",
      "name": "python",
      "nbconvert_exporter": "python",
      "pygments_lexer": "ipython3",
      "version": "3.10.10"
    },
    "colab": {
      "provenance": [],
      "name": "preprints - test Gemini"
    }
  },
  "nbformat": 4,
  "nbformat_minor": 5
}