{
  "cells": [
    {
      "cell_type": "code",
      "source": [
        "%pip install langchain-google-vertexai pymupdf langchain langchain-core"
      ],
      "metadata": {
        "id": "S7Ts2IrVe7Di",
        "colab": {
          "base_uri": "https://localhost:8080/",
          "height": 1000
        },
        "collapsed": true,
        "executionInfo": {
          "status": "ok",
          "timestamp": 1727444693984,
          "user_tz": 300,
          "elapsed": 23282,
          "user": {
            "displayName": "",
            "userId": ""
          }
        },
        "outputId": "0317df03-8fbc-49e3-ccc6-f2b20456ce6e"
      },
      "id": "S7Ts2IrVe7Di",
      "execution_count": null,
      "outputs": [
        {
          "output_type": "stream",
          "name": "stdout",
          "text": [
            "Collecting langchain-google-vertexai\n",
            "  Downloading langchain_google_vertexai-2.0.1-py3-none-any.whl.metadata (3.8 kB)\n",
            "Requirement already satisfied: pymupdf in /usr/local/lib/python3.10/dist-packages (1.24.10)\n",
            "Requirement already satisfied: langchain in /usr/local/lib/python3.10/dist-packages (0.3.1)\n",
            "Requirement already satisfied: langchain-core in /usr/local/lib/python3.10/dist-packages (0.3.6)\n",
            "Requirement already satisfied: google-cloud-aiplatform<2.0.0,>=1.56.0 in /usr/local/lib/python3.10/dist-packages (from langchain-google-vertexai) (1.66.0)\n",
            "Collecting google-cloud-storage<3.0.0,>=2.17.0 (from langchain-google-vertexai)\n",
            "  Downloading google_cloud_storage-2.18.2-py2.py3-none-any.whl.metadata (9.1 kB)\n",
            "Requirement already satisfied: httpx<0.28.0,>=0.27.0 in /usr/local/lib/python3.10/dist-packages (from langchain-google-vertexai) (0.27.2)\n",
            "Collecting httpx-sse<0.5.0,>=0.4.0 (from langchain-google-vertexai)\n",
            "  Downloading httpx_sse-0.4.0-py3-none-any.whl.metadata (9.0 kB)\n",
            "Requirement already satisfied: pydantic<3,>=2 in /usr/local/lib/python3.10/dist-packages (from langchain-google-vertexai) (2.9.2)\n",
            "Requirement already satisfied: PyMuPDFb==1.24.10 in /usr/local/lib/python3.10/dist-packages (from pymupdf) (1.24.10)\n",
            "Requirement already satisfied: PyYAML>=5.3 in /usr/local/lib/python3.10/dist-packages (from langchain) (6.0.2)\n",
            "Requirement already satisfied: SQLAlchemy<3,>=1.4 in /usr/local/lib/python3.10/dist-packages (from langchain) (2.0.34)\n",
            "Requirement already satisfied: aiohttp<4.0.0,>=3.8.3 in /usr/local/lib/python3.10/dist-packages (from langchain) (3.10.5)\n",
            "Requirement already satisfied: async-timeout<5.0.0,>=4.0.0 in /usr/local/lib/python3.10/dist-packages (from langchain) (4.0.3)\n",
            "Requirement already satisfied: langchain-text-splitters<0.4.0,>=0.3.0 in /usr/local/lib/python3.10/dist-packages (from langchain) (0.3.0)\n",
            "Requirement already satisfied: langsmith<0.2.0,>=0.1.17 in /usr/local/lib/python3.10/dist-packages (from langchain) (0.1.129)\n",
            "Requirement already satisfied: numpy<2,>=1 in /usr/local/lib/python3.10/dist-packages (from langchain) (1.26.4)\n",
            "Requirement already satisfied: requests<3,>=2 in /usr/local/lib/python3.10/dist-packages (from langchain) (2.32.3)\n",
            "Requirement already satisfied: tenacity!=8.4.0,<9.0.0,>=8.1.0 in /usr/local/lib/python3.10/dist-packages (from langchain) (8.5.0)\n",
            "Requirement already satisfied: jsonpatch<2.0,>=1.33 in /usr/local/lib/python3.10/dist-packages (from langchain-core) (1.33)\n",
            "Requirement already satisfied: packaging<25,>=23.2 in /usr/local/lib/python3.10/dist-packages (from langchain-core) (24.1)\n",
            "Requirement already satisfied: typing-extensions>=4.7 in /usr/local/lib/python3.10/dist-packages (from langchain-core) (4.12.2)\n",
            "Requirement already satisfied: aiohappyeyeballs>=2.3.0 in /usr/local/lib/python3.10/dist-packages (from aiohttp<4.0.0,>=3.8.3->langchain) (2.4.0)\n",
            "Requirement already satisfied: aiosignal>=1.1.2 in /usr/local/lib/python3.10/dist-packages (from aiohttp<4.0.0,>=3.8.3->langchain) (1.3.1)\n",
            "Requirement already satisfied: attrs>=17.3.0 in /usr/local/lib/python3.10/dist-packages (from aiohttp<4.0.0,>=3.8.3->langchain) (24.2.0)\n",
            "Requirement already satisfied: frozenlist>=1.1.1 in /usr/local/lib/python3.10/dist-packages (from aiohttp<4.0.0,>=3.8.3->langchain) (1.4.1)\n",
            "Requirement already satisfied: multidict<7.0,>=4.5 in /usr/local/lib/python3.10/dist-packages (from aiohttp<4.0.0,>=3.8.3->langchain) (6.1.0)\n",
            "Requirement already satisfied: yarl<2.0,>=1.0 in /usr/local/lib/python3.10/dist-packages (from aiohttp<4.0.0,>=3.8.3->langchain) (1.11.1)\n",
            "Requirement already satisfied: google-api-core!=2.0.*,!=2.1.*,!=2.2.*,!=2.3.*,!=2.4.*,!=2.5.*,!=2.6.*,!=2.7.*,<3.0.0dev,>=1.34.1 in /usr/local/lib/python3.10/dist-packages (from google-api-core[grpc]!=2.0.*,!=2.1.*,!=2.2.*,!=2.3.*,!=2.4.*,!=2.5.*,!=2.6.*,!=2.7.*,<3.0.0dev,>=1.34.1->google-cloud-aiplatform<2.0.0,>=1.56.0->langchain-google-vertexai) (2.19.2)\n",
            "Requirement already satisfied: google-auth<3.0.0dev,>=2.14.1 in /usr/local/lib/python3.10/dist-packages (from google-cloud-aiplatform<2.0.0,>=1.56.0->langchain-google-vertexai) (2.27.0)\n",
            "Requirement already satisfied: proto-plus<2.0.0dev,>=1.22.3 in /usr/local/lib/python3.10/dist-packages (from google-cloud-aiplatform<2.0.0,>=1.56.0->langchain-google-vertexai) (1.24.0)\n",
            "Requirement already satisfied: protobuf!=4.21.0,!=4.21.1,!=4.21.2,!=4.21.3,!=4.21.4,!=4.21.5,<6.0.0dev,>=3.20.2 in /usr/local/lib/python3.10/dist-packages (from google-cloud-aiplatform<2.0.0,>=1.56.0->langchain-google-vertexai) (3.20.3)\n",
            "Requirement already satisfied: google-cloud-bigquery!=3.20.0,<4.0.0dev,>=1.15.0 in /usr/local/lib/python3.10/dist-packages (from google-cloud-aiplatform<2.0.0,>=1.56.0->langchain-google-vertexai) (3.25.0)\n",
            "Requirement already satisfied: google-cloud-resource-manager<3.0.0dev,>=1.3.3 in /usr/local/lib/python3.10/dist-packages (from google-cloud-aiplatform<2.0.0,>=1.56.0->langchain-google-vertexai) (1.12.5)\n",
            "Requirement already satisfied: shapely<3.0.0dev in /usr/local/lib/python3.10/dist-packages (from google-cloud-aiplatform<2.0.0,>=1.56.0->langchain-google-vertexai) (2.0.6)\n",
            "Requirement already satisfied: docstring-parser<1 in /usr/local/lib/python3.10/dist-packages (from google-cloud-aiplatform<2.0.0,>=1.56.0->langchain-google-vertexai) (0.16)\n",
            "Requirement already satisfied: google-cloud-core<3.0dev,>=2.3.0 in /usr/local/lib/python3.10/dist-packages (from google-cloud-storage<3.0.0,>=2.17.0->langchain-google-vertexai) (2.4.1)\n",
            "Requirement already satisfied: google-resumable-media>=2.7.2 in /usr/local/lib/python3.10/dist-packages (from google-cloud-storage<3.0.0,>=2.17.0->langchain-google-vertexai) (2.7.2)\n",
            "Requirement already satisfied: google-crc32c<2.0dev,>=1.0 in /usr/local/lib/python3.10/dist-packages (from google-cloud-storage<3.0.0,>=2.17.0->langchain-google-vertexai) (1.6.0)\n",
            "Requirement already satisfied: anyio in /usr/local/lib/python3.10/dist-packages (from httpx<0.28.0,>=0.27.0->langchain-google-vertexai) (3.7.1)\n",
            "Requirement already satisfied: certifi in /usr/local/lib/python3.10/dist-packages (from httpx<0.28.0,>=0.27.0->langchain-google-vertexai) (2024.8.30)\n",
            "Requirement already satisfied: httpcore==1.* in /usr/local/lib/python3.10/dist-packages (from httpx<0.28.0,>=0.27.0->langchain-google-vertexai) (1.0.5)\n",
            "Requirement already satisfied: idna in /usr/local/lib/python3.10/dist-packages (from httpx<0.28.0,>=0.27.0->langchain-google-vertexai) (3.10)\n",
            "Requirement already satisfied: sniffio in /usr/local/lib/python3.10/dist-packages (from httpx<0.28.0,>=0.27.0->langchain-google-vertexai) (1.3.1)\n",
            "Requirement already satisfied: h11<0.15,>=0.13 in /usr/local/lib/python3.10/dist-packages (from httpcore==1.*->httpx<0.28.0,>=0.27.0->langchain-google-vertexai) (0.14.0)\n",
            "Requirement already satisfied: jsonpointer>=1.9 in /usr/local/lib/python3.10/dist-packages (from jsonpatch<2.0,>=1.33->langchain-core) (3.0.0)\n",
            "Requirement already satisfied: orjson<4.0.0,>=3.9.14 in /usr/local/lib/python3.10/dist-packages (from langsmith<0.2.0,>=0.1.17->langchain) (3.10.7)\n",
            "Requirement already satisfied: annotated-types>=0.6.0 in /usr/local/lib/python3.10/dist-packages (from pydantic<3,>=2->langchain-google-vertexai) (0.7.0)\n",
            "Requirement already satisfied: pydantic-core==2.23.4 in /usr/local/lib/python3.10/dist-packages (from pydantic<3,>=2->langchain-google-vertexai) (2.23.4)\n",
            "Requirement already satisfied: charset-normalizer<4,>=2 in /usr/local/lib/python3.10/dist-packages (from requests<3,>=2->langchain) (3.3.2)\n",
            "Requirement already satisfied: urllib3<3,>=1.21.1 in /usr/local/lib/python3.10/dist-packages (from requests<3,>=2->langchain) (2.0.7)\n",
            "Requirement already satisfied: greenlet!=0.4.17 in /usr/local/lib/python3.10/dist-packages (from SQLAlchemy<3,>=1.4->langchain) (3.1.0)\n",
            "Requirement already satisfied: googleapis-common-protos<2.0.dev0,>=1.56.2 in /usr/local/lib/python3.10/dist-packages (from google-api-core!=2.0.*,!=2.1.*,!=2.2.*,!=2.3.*,!=2.4.*,!=2.5.*,!=2.6.*,!=2.7.*,<3.0.0dev,>=1.34.1->google-api-core[grpc]!=2.0.*,!=2.1.*,!=2.2.*,!=2.3.*,!=2.4.*,!=2.5.*,!=2.6.*,!=2.7.*,<3.0.0dev,>=1.34.1->google-cloud-aiplatform<2.0.0,>=1.56.0->langchain-google-vertexai) (1.65.0)\n",
            "Requirement already satisfied: grpcio<2.0dev,>=1.33.2 in /usr/local/lib/python3.10/dist-packages (from google-api-core[grpc]!=2.0.*,!=2.1.*,!=2.2.*,!=2.3.*,!=2.4.*,!=2.5.*,!=2.6.*,!=2.7.*,<3.0.0dev,>=1.34.1->google-cloud-aiplatform<2.0.0,>=1.56.0->langchain-google-vertexai) (1.64.1)\n",
            "Requirement already satisfied: grpcio-status<2.0.dev0,>=1.33.2 in /usr/local/lib/python3.10/dist-packages (from google-api-core[grpc]!=2.0.*,!=2.1.*,!=2.2.*,!=2.3.*,!=2.4.*,!=2.5.*,!=2.6.*,!=2.7.*,<3.0.0dev,>=1.34.1->google-cloud-aiplatform<2.0.0,>=1.56.0->langchain-google-vertexai) (1.48.2)\n",
            "Requirement already satisfied: cachetools<6.0,>=2.0.0 in /usr/local/lib/python3.10/dist-packages (from google-auth<3.0.0dev,>=2.14.1->google-cloud-aiplatform<2.0.0,>=1.56.0->langchain-google-vertexai) (5.5.0)\n",
            "Requirement already satisfied: pyasn1-modules>=0.2.1 in /usr/local/lib/python3.10/dist-packages (from google-auth<3.0.0dev,>=2.14.1->google-cloud-aiplatform<2.0.0,>=1.56.0->langchain-google-vertexai) (0.4.1)\n",
            "Requirement already satisfied: rsa<5,>=3.1.4 in /usr/local/lib/python3.10/dist-packages (from google-auth<3.0.0dev,>=2.14.1->google-cloud-aiplatform<2.0.0,>=1.56.0->langchain-google-vertexai) (4.9)\n",
            "Requirement already satisfied: python-dateutil<3.0dev,>=2.7.2 in /usr/local/lib/python3.10/dist-packages (from google-cloud-bigquery!=3.20.0,<4.0.0dev,>=1.15.0->google-cloud-aiplatform<2.0.0,>=1.56.0->langchain-google-vertexai) (2.8.2)\n",
            "Requirement already satisfied: grpc-google-iam-v1<1.0.0dev,>=0.12.4 in /usr/local/lib/python3.10/dist-packages (from google-cloud-resource-manager<3.0.0dev,>=1.3.3->google-cloud-aiplatform<2.0.0,>=1.56.0->langchain-google-vertexai) (0.13.1)\n",
            "Requirement already satisfied: exceptiongroup in /usr/local/lib/python3.10/dist-packages (from anyio->httpx<0.28.0,>=0.27.0->langchain-google-vertexai) (1.2.2)\n",
            "Requirement already satisfied: pyasn1<0.7.0,>=0.4.6 in /usr/local/lib/python3.10/dist-packages (from pyasn1-modules>=0.2.1->google-auth<3.0.0dev,>=2.14.1->google-cloud-aiplatform<2.0.0,>=1.56.0->langchain-google-vertexai) (0.6.1)\n",
            "Requirement already satisfied: six>=1.5 in /usr/local/lib/python3.10/dist-packages (from python-dateutil<3.0dev,>=2.7.2->google-cloud-bigquery!=3.20.0,<4.0.0dev,>=1.15.0->google-cloud-aiplatform<2.0.0,>=1.56.0->langchain-google-vertexai) (1.16.0)\n",
            "Downloading langchain_google_vertexai-2.0.1-py3-none-any.whl (86 kB)\n",
            "\u001b[2K   \u001b[90m━━━━━━━━━━━━━━━━━━━━━━━━━━━━━━━━━━━━━━━━\u001b[0m \u001b[32m86.9/86.9 kB\u001b[0m \u001b[31m1.3 MB/s\u001b[0m eta \u001b[36m0:00:00\u001b[0m\n",
            "\u001b[?25hDownloading google_cloud_storage-2.18.2-py2.py3-none-any.whl (130 kB)\n",
            "\u001b[2K   \u001b[90m━━━━━━━━━━━━━━━━━━━━━━━━━━━━━━━━━━━━━━━━\u001b[0m \u001b[32m130.5/130.5 kB\u001b[0m \u001b[31m2.7 MB/s\u001b[0m eta \u001b[36m0:00:00\u001b[0m\n",
            "\u001b[?25hDownloading httpx_sse-0.4.0-py3-none-any.whl (7.8 kB)\n",
            "Installing collected packages: httpx-sse, google-cloud-storage, langchain-google-vertexai\n",
            "  Attempting uninstall: google-cloud-storage\n",
            "    Found existing installation: google-cloud-storage 2.8.0\n",
            "    Uninstalling google-cloud-storage-2.8.0:\n",
            "      Successfully uninstalled google-cloud-storage-2.8.0\n",
            "Successfully installed google-cloud-storage-2.18.2 httpx-sse-0.4.0 langchain-google-vertexai-2.0.1\n"
          ]
        },
        {
          "output_type": "display_data",
          "data": {
            "application/vnd.colab-display-data+json": {
              "pip_warning": {
                "packages": [
                  "google"
                ]
              },
              "id": "05f158215dc2413c8ff4ad2d3e5c5e85"
            }
          },
          "metadata": {}
        }
      ]
    },
    {
      "cell_type": "code",
      "source": [
        "from google.auth import default, transport\n",
        "\n",
        "credentials, _ = default()\n",
        "auth_request = transport.requests.Request()\n",
        "credentials.refresh(auth_request)"
      ],
      "metadata": {
        "id": "z2wYiVsC0wlO",
        "executionInfo": {
          "status": "ok",
          "timestamp": 1727468316168,
          "user_tz": 300,
          "elapsed": 144,
          "user": {
            "displayName": "",
            "userId": ""
          }
        }
      },
      "id": "z2wYiVsC0wlO",
      "execution_count": 79,
      "outputs": []
    },
    {
      "cell_type": "code",
      "source": [
        "from langchain_google_vertexai import VertexAI, HarmBlockThreshold, HarmCategory\n",
        "from langchain_google_vertexai import VertexAIModelGarden\n",
        "from langchain_google_vertexai.model_garden_maas.llama import VertexModelGardenLlama\n",
        "from langchain_core.prompts import PromptTemplate\n",
        "from langchain_core.output_parsers import JsonOutputParser\n",
        "from pydantic import BaseModel, Field\n",
        "from typing import List, Optional\n",
        "\n",
        "from langchain.globals import set_verbose, set_debug\n",
        "\n",
        "safety_settings = {\n",
        "    HarmCategory.HARM_CATEGORY_UNSPECIFIED: HarmBlockThreshold.BLOCK_NONE,\n",
        "    HarmCategory.HARM_CATEGORY_DANGEROUS_CONTENT: HarmBlockThreshold.BLOCK_NONE,\n",
        "    HarmCategory.HARM_CATEGORY_HATE_SPEECH: HarmBlockThreshold.BLOCK_NONE,\n",
        "    HarmCategory.HARM_CATEGORY_HARASSMENT: HarmBlockThreshold.BLOCK_NONE,\n",
        "    HarmCategory.HARM_CATEGORY_SEXUALLY_EXPLICIT: HarmBlockThreshold.BLOCK_NONE,\n",
        "}\n",
        "\n",
        "# llm = VertexAI(\n",
        "#     model_name=\"gemini-1.5-flash\",\n",
        "#     verbose=True,\n",
        "#     safety_settings=safety_settings,\n",
        "# )\n",
        "llm = VertexModelGardenLlama(\n",
        "    model=\"meta/llama3-405b-instruct-maas\",\n",
        "    # other params...\n",
        ")\n",
        "# llm = VertexAIModelGarden(project=PROJECT_ID, endpoint_id=ENDPOINT_ID)\n"
      ],
      "metadata": {
        "id": "6PZIqn1d0SN2",
        "executionInfo": {
          "status": "ok",
          "timestamp": 1727468317692,
          "user_tz": 300,
          "elapsed": 167,
          "user": {
            "displayName": "",
            "userId": ""
          }
        }
      },
      "id": "6PZIqn1d0SN2",
      "execution_count": 80,
      "outputs": []
    },
    {
      "cell_type": "code",
      "source": [
        "import pymupdf\n",
        "import json\n",
        "from google.cloud import storage\n",
        "\n",
        "\n",
        "BUCKET_NAME = \"cloud-ai-platform-e215f7f7-a526-4a66-902d-eb69384ef0c4\"\n",
        "storage_client = storage.Client()\n",
        "bucket = storage_client.bucket(BUCKET_NAME)\n",
        "\n",
        "# Define your desired data structure.\n",
        "class Author(BaseModel):\n",
        "    first: str = Field(description=\"first name and any middle name or initials\")\n",
        "    last: str = Field(description=\"last name\")\n",
        "\n",
        "class ArticleMetadata(BaseModel):\n",
        "    title: str = Field(description=\"title of the article\")\n",
        "    authors: List[Author] = Field(..., description=\"List of authors.\")\n",
        "    keywords: List[str] = Field(..., description=\"List of keywords.\")\n",
        "    abstract: Optional[str] = Field(description=\"the abstract of the article\")\n",
        "\n",
        "def file_content(file) -> str:\n",
        "    blob = storage.Blob(file, bucket)\n",
        "\n",
        "    doc = pymupdf.open(\"pdf\", blob.download_as_bytes())\n",
        "    file_content= \"\"\n",
        "    for page in doc.pages(0, 3, 1): # first three pages\n",
        "      file_content += page.get_text()\n",
        "    return file_content\n",
        "\n",
        "def create_chain() -> str:\n",
        "    template = \"\"\"Here is an academic paper: <paper>{file_content}</paper>\n",
        "\n",
        "    Please extract the following data from the paper.\n",
        "    The title of the article.\n",
        "    The list of authors split into first and last name. The first name may include any initials or middle names as well. Use \"first\" and \"last\" as the JSON keys for the name.\n",
        "    The abstract if it is explicitly provided. Do not try to generate an abstract unless it is present.\n",
        "    The list of keywords that are explicitly provided on the paper. Do not try to generate keywords unless they are present. If there are no keywords represent this as an empty list.\n",
        "    Do not provide any comments in the JSON because they are not permitted in the spec.\n",
        "    \"\"\"\n",
        "    parser = JsonOutputParser(pydantic_object=ArticleMetadata)\n",
        "    prompt = PromptTemplate(\n",
        "      input_variables=[\"file_content\"],\n",
        "      template=template,\n",
        "      partial_variables={\"format_instructions\": parser.get_format_instructions()},\n",
        "    )\n",
        "    return prompt | llm | parser\n",
        "\n",
        "# Send Google Cloud Storage Document to Vertex AI\n",
        "def process_document(\n",
        "    file: str,\n",
        ") -> str:\n",
        "    chain = create_chain()\n",
        "    return json.dumps(chain.invoke({\"file_content\": file_content(file)}))\n",
        "    # return chain.invoke({\"file_content\": file_content(file)})\n",
        "\n",
        "def process_row(filename, alex_id, bucket):\n",
        "    print(filename)\n",
        "    result = process_document(filename)\n",
        "    blob = bucket.blob(f'preprints/results-llama-3/{alex_id}.json')\n",
        "    with blob.open(\"w\") as f:\n",
        "      f.write(result)"
      ],
      "metadata": {
        "id": "SaCjXv1VhmHi",
        "executionInfo": {
          "status": "ok",
          "timestamp": 1727468320034,
          "user_tz": 300,
          "elapsed": 211,
          "user": {
            "displayName": "",
            "userId": ""
          }
        }
      },
      "id": "SaCjXv1VhmHi",
      "execution_count": 81,
      "outputs": []
    },
    {
      "cell_type": "code",
      "source": [
        "# This allows us to do a quick test before running the whole batch.\n",
        "# llm.invoke(\"What day comes after Friday?\")\n",
        "# print(json.dumps(ArticleMetadata.model_json_schema(), indent=2))\n",
        "# set_debug(False)\n",
        "print(process_document('preprints/chemrxiv.org/W4304614191.pdf'))"
      ],
      "metadata": {
        "colab": {
          "base_uri": "https://localhost:8080/"
        },
        "collapsed": true,
        "id": "LXJT0tq-4P61",
        "executionInfo": {
          "status": "ok",
          "timestamp": 1727466019457,
          "user_tz": 300,
          "elapsed": 15786,
          "user": {
            "displayName": "",
            "userId": ""
          }
        },
        "outputId": "9d6825d1-a291-4759-b5d9-74d92030861f"
      },
      "id": "LXJT0tq-4P61",
      "execution_count": 73,
      "outputs": [
        {
          "output_type": "stream",
          "name": "stdout",
          "text": [
            "{\"title\": \"\\u03b2-Lactamases evolve against antibiotics by acquiring large active-site electric fields\", \"authors\": [{\"first\": \"Zhe\", \"last\": \"Ji\"}, {\"first\": \"Steven G.\", \"last\": \"Boxer\"}], \"abstract\": \"A compound bound covalently to an enzyme active site can act either as a substrate if the covalent linkage is readily broken up by the enzyme or as an inhibitor if the bond dissociates slowly. We tracked the reactivity of such bonds associated with the rise of the resistance to penicillin G (PenG) in protein evolution from penicillin-binding proteins (PBPs) to TEM \\u03b2-lactamases, and with the development of avibactam (Avb) to overcome the resistance. We found that the ester linkage in PBP\\u2013PenG is resistant to hydrolysis mainly due to the small electric fields present in the protein active site. Conversely, the same linkage in the descendant TEM\\u2013PenG experiences large electric fields which stabilize the more charge-separated transition state and thus lower the free energy barrier to hydrolysis. Specifically, the electric fields were improved from -59 to -140 MV/cm in an ancient evolution dating back billions of years, contributing 5 orders of magnitude rate acceleration. This trend continues today in the nullification of newly developed antibiotic drugs. The fast linkage hydrolysis acquired from evolution is counteracted by the upgrade of PenG to Avb whose linkage escapes from the hydrolysis by returning to a low-field environment. Using the framework of electrostatic catalysis, the electric field, an observable from vibrational spectroscopy, provides a unifying physical metric to understand protein evolution and to guide the design of covalent drugs.\", \"keywords\": null}\n"
          ]
        }
      ]
    },
    {
      "cell_type": "code",
      "source": [
        "import csv\n",
        "DIR = 'preprints/'\n",
        "FILENAME = f'{DIR}records.csv'\n",
        "\n",
        "blob = bucket.blob(FILENAME)\n",
        "with blob.open() as csvfile:\n",
        "  reader = csv.reader(csvfile)\n",
        "  next(reader) # skip headers\n",
        "  for row in reader:\n",
        "    filename = row[1].removeprefix(f\"https://storage.cloud.google.com/{BUCKET_NAME}/\")\n",
        "    alex_id = row[0].removeprefix(\"https://openalex.org/\")\n",
        "    process_row(filename, alex_id, bucket)\n"
      ],
      "metadata": {
        "colab": {
          "base_uri": "https://localhost:8080/"
        },
        "id": "vRXJ_kQehX_l",
        "executionInfo": {
          "status": "ok",
          "timestamp": 1727469130358,
          "user_tz": 300,
          "elapsed": 807117,
          "user": {
            "displayName": "",
            "userId": ""
          }
        },
        "outputId": "506c978c-cfb3-48b3-8e29-1fa285efab0e"
      },
      "id": "vRXJ_kQehX_l",
      "execution_count": 82,
      "outputs": [
        {
          "output_type": "stream",
          "name": "stdout",
          "text": [
            "preprints/arxiv.org/W2988715931.pdf\n",
            "preprints/arxiv.org/W3202546816.pdf\n",
            "preprints/osf.io/W4212832069.pdf\n",
            "preprints/discovery.ucl.ac.uk/W2901173781.pdf\n",
            "preprints/www.biorxiv.org/W3013783484.pdf\n",
            "preprints/eartharxiv.org/W4226140866.pdf\n",
            "preprints/www.biorxiv.org/W4399283731.pdf\n",
            "preprints/arxiv.org/W3126527592.pdf\n",
            "preprints/escholarship.org/W3093048371.pdf\n",
            "preprints/escholarship.org/W4205859241.pdf\n",
            "preprints/www.medrxiv.org/W4322154575.pdf\n",
            "preprints/www.researchsquare.com/W4297341531.pdf\n",
            "preprints/www.medrxiv.org/W4393156923.pdf\n",
            "preprints/escholarship.org/W3000588783.pdf\n",
            "preprints/www.medrxiv.org/W3091235616.pdf\n",
            "preprints/preprints.apsanet.org/W4296103990.pdf\n",
            "preprints/ora.ox.ac.uk/W3170856023.pdf\n",
            "preprints/arxiv.org/W3164284701.pdf\n",
            "preprints/arxiv.org/W3183339884.pdf\n",
            "preprints/www.researchsquare.com/W4393028888.pdf\n",
            "preprints/www.researchsquare.com/W4394813096.pdf\n",
            "preprints/chemrxiv.org/W4304614191.pdf\n",
            "preprints/inria.hal.science/W4386128506.pdf\n",
            "preprints/osf.io/W4376255784.pdf\n",
            "preprints/arxiv.org/W3177095392.pdf\n",
            "preprints/www.researchsquare.com/W3133101250.pdf\n",
            "preprints/preprints.apsanet.org/W3045625995.pdf\n",
            "preprints/www.lenus.ie/W2890142544.pdf\n",
            "preprints/eartharxiv.org/W4250899323.pdf\n",
            "preprints/osf.io/W4385565029.pdf\n",
            "preprints/arxiv.org/W3124742002.pdf\n",
            "preprints/arxiv.org/W3178821884.pdf\n",
            "preprints/www.medrxiv.org/W3021395141.pdf\n",
            "preprints/arxiv.org/W3035272603.pdf\n",
            "preprints/www.researchsquare.com/W4247150207.pdf\n",
            "preprints/www.medrxiv.org/W3007313800.pdf\n",
            "preprints/osf.io/W4245851024.pdf\n",
            "preprints/www.biorxiv.org/W4401157222.pdf\n",
            "preprints/arxiv.org/W3005397613.pdf\n",
            "preprints/arxiv.org/W3116436840.pdf\n",
            "preprints/www.medrxiv.org/W3174061332.pdf\n",
            "preprints/arxiv.org/W3199353954.pdf\n",
            "preprints/arxiv.org/W3205417062.pdf\n",
            "preprints/arxiv.org/W3025420576.pdf\n",
            "preprints/publikationen.ub.uni-frankfurt.de/W4313482304.pdf\n",
            "preprints/www.frbsf.org/W2919371474.pdf\n",
            "preprints/osf.io/W4386513944.pdf\n",
            "preprints/escholarship.org/W3087573264.pdf\n"
          ]
        }
      ]
    }
  ],
  "metadata": {
    "kernelspec": {
      "display_name": "Python 3",
      "language": "python",
      "name": "python3"
    },
    "language_info": {
      "codemirror_mode": {
        "name": "ipython",
        "version": 3
      },
      "file_extension": ".py",
      "mimetype": "text/x-python",
      "name": "python",
      "nbconvert_exporter": "python",
      "pygments_lexer": "ipython3",
      "version": "3.10.10"
    },
    "colab": {
      "provenance": [],
      "name": "preprints-llama3-langchain"
    }
  },
  "nbformat": 4,
  "nbformat_minor": 5
}