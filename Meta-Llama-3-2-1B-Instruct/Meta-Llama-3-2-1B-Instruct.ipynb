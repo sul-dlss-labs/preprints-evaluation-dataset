{
  "cells": [
    {
      "cell_type": "code",
      "source": [
        "!pip install langchain_google_vertexai pymupdf langchain-core"
      ],
      "metadata": {
        "colab": {
          "base_uri": "https://localhost:8080/",
          "height": 1000
        },
        "collapsed": true,
        "id": "08b8EiwoSu-w",
        "executionInfo": {
          "status": "ok",
          "timestamp": 1727893028163,
          "user_tz": 300,
          "elapsed": 21614,
          "user": {
            "displayName": "",
            "userId": ""
          }
        },
        "outputId": "acc41b30-cc94-4e16-85e8-bb1424964d70"
      },
      "id": "08b8EiwoSu-w",
      "execution_count": 2,
      "outputs": [
        {
          "output_type": "stream",
          "name": "stdout",
          "text": [
            "Collecting langchain_google_vertexai\n",
            "  Downloading langchain_google_vertexai-2.0.3-py3-none-any.whl.metadata (3.8 kB)\n",
            "Collecting pymupdf\n",
            "  Downloading PyMuPDF-1.24.10-cp310-none-manylinux2014_x86_64.whl.metadata (3.4 kB)\n",
            "Collecting langchain-core\n",
            "  Downloading langchain_core-0.3.8-py3-none-any.whl.metadata (6.3 kB)\n",
            "Requirement already satisfied: google-cloud-aiplatform<2.0.0,>=1.56.0 in /usr/local/lib/python3.10/dist-packages (from langchain_google_vertexai) (1.66.0)\n",
            "Collecting google-cloud-storage<3.0.0,>=2.17.0 (from langchain_google_vertexai)\n",
            "  Downloading google_cloud_storage-2.18.2-py2.py3-none-any.whl.metadata (9.1 kB)\n",
            "Collecting httpx<0.28.0,>=0.27.0 (from langchain_google_vertexai)\n",
            "  Downloading httpx-0.27.2-py3-none-any.whl.metadata (7.1 kB)\n",
            "Collecting httpx-sse<0.5.0,>=0.4.0 (from langchain_google_vertexai)\n",
            "  Downloading httpx_sse-0.4.0-py3-none-any.whl.metadata (9.0 kB)\n",
            "Collecting pydantic<3,>=2 (from langchain_google_vertexai)\n",
            "  Downloading pydantic-2.9.2-py3-none-any.whl.metadata (149 kB)\n",
            "\u001b[2K     \u001b[90m━━━━━━━━━━━━━━━━━━━━━━━━━━━━━━━━━━━━━━━━\u001b[0m \u001b[32m149.4/149.4 kB\u001b[0m \u001b[31m5.4 MB/s\u001b[0m eta \u001b[36m0:00:00\u001b[0m\n",
            "\u001b[?25hCollecting PyMuPDFb==1.24.10 (from pymupdf)\n",
            "  Downloading PyMuPDFb-1.24.10-py3-none-manylinux2014_x86_64.manylinux_2_17_x86_64.whl.metadata (1.4 kB)\n",
            "Requirement already satisfied: PyYAML>=5.3 in /usr/local/lib/python3.10/dist-packages (from langchain-core) (6.0.2)\n",
            "Collecting jsonpatch<2.0,>=1.33 (from langchain-core)\n",
            "  Downloading jsonpatch-1.33-py2.py3-none-any.whl.metadata (3.0 kB)\n",
            "Collecting langsmith<0.2.0,>=0.1.125 (from langchain-core)\n",
            "  Downloading langsmith-0.1.130-py3-none-any.whl.metadata (13 kB)\n",
            "Requirement already satisfied: packaging<25,>=23.2 in /usr/local/lib/python3.10/dist-packages (from langchain-core) (24.1)\n",
            "Collecting tenacity!=8.4.0,<9.0.0,>=8.1.0 (from langchain-core)\n",
            "  Downloading tenacity-8.5.0-py3-none-any.whl.metadata (1.2 kB)\n",
            "Requirement already satisfied: typing-extensions>=4.7 in /usr/local/lib/python3.10/dist-packages (from langchain-core) (4.12.2)\n",
            "Requirement already satisfied: google-api-core!=2.0.*,!=2.1.*,!=2.2.*,!=2.3.*,!=2.4.*,!=2.5.*,!=2.6.*,!=2.7.*,<3.0.0dev,>=1.34.1 in /usr/local/lib/python3.10/dist-packages (from google-api-core[grpc]!=2.0.*,!=2.1.*,!=2.2.*,!=2.3.*,!=2.4.*,!=2.5.*,!=2.6.*,!=2.7.*,<3.0.0dev,>=1.34.1->google-cloud-aiplatform<2.0.0,>=1.56.0->langchain_google_vertexai) (2.19.2)\n",
            "Requirement already satisfied: google-auth<3.0.0dev,>=2.14.1 in /usr/local/lib/python3.10/dist-packages (from google-cloud-aiplatform<2.0.0,>=1.56.0->langchain_google_vertexai) (2.27.0)\n",
            "Requirement already satisfied: proto-plus<2.0.0dev,>=1.22.3 in /usr/local/lib/python3.10/dist-packages (from google-cloud-aiplatform<2.0.0,>=1.56.0->langchain_google_vertexai) (1.24.0)\n",
            "Requirement already satisfied: protobuf!=4.21.0,!=4.21.1,!=4.21.2,!=4.21.3,!=4.21.4,!=4.21.5,<6.0.0dev,>=3.20.2 in /usr/local/lib/python3.10/dist-packages (from google-cloud-aiplatform<2.0.0,>=1.56.0->langchain_google_vertexai) (3.20.3)\n",
            "Requirement already satisfied: google-cloud-bigquery!=3.20.0,<4.0.0dev,>=1.15.0 in /usr/local/lib/python3.10/dist-packages (from google-cloud-aiplatform<2.0.0,>=1.56.0->langchain_google_vertexai) (3.25.0)\n",
            "Requirement already satisfied: google-cloud-resource-manager<3.0.0dev,>=1.3.3 in /usr/local/lib/python3.10/dist-packages (from google-cloud-aiplatform<2.0.0,>=1.56.0->langchain_google_vertexai) (1.12.5)\n",
            "Requirement already satisfied: shapely<3.0.0dev in /usr/local/lib/python3.10/dist-packages (from google-cloud-aiplatform<2.0.0,>=1.56.0->langchain_google_vertexai) (2.0.6)\n",
            "Requirement already satisfied: docstring-parser<1 in /usr/local/lib/python3.10/dist-packages (from google-cloud-aiplatform<2.0.0,>=1.56.0->langchain_google_vertexai) (0.16)\n",
            "Requirement already satisfied: google-cloud-core<3.0dev,>=2.3.0 in /usr/local/lib/python3.10/dist-packages (from google-cloud-storage<3.0.0,>=2.17.0->langchain_google_vertexai) (2.4.1)\n",
            "Requirement already satisfied: google-resumable-media>=2.7.2 in /usr/local/lib/python3.10/dist-packages (from google-cloud-storage<3.0.0,>=2.17.0->langchain_google_vertexai) (2.7.2)\n",
            "Requirement already satisfied: requests<3.0.0dev,>=2.18.0 in /usr/local/lib/python3.10/dist-packages (from google-cloud-storage<3.0.0,>=2.17.0->langchain_google_vertexai) (2.32.3)\n",
            "Requirement already satisfied: google-crc32c<2.0dev,>=1.0 in /usr/local/lib/python3.10/dist-packages (from google-cloud-storage<3.0.0,>=2.17.0->langchain_google_vertexai) (1.6.0)\n",
            "Requirement already satisfied: anyio in /usr/local/lib/python3.10/dist-packages (from httpx<0.28.0,>=0.27.0->langchain_google_vertexai) (3.7.1)\n",
            "Requirement already satisfied: certifi in /usr/local/lib/python3.10/dist-packages (from httpx<0.28.0,>=0.27.0->langchain_google_vertexai) (2024.8.30)\n",
            "Collecting httpcore==1.* (from httpx<0.28.0,>=0.27.0->langchain_google_vertexai)\n",
            "  Downloading httpcore-1.0.6-py3-none-any.whl.metadata (21 kB)\n",
            "Requirement already satisfied: idna in /usr/local/lib/python3.10/dist-packages (from httpx<0.28.0,>=0.27.0->langchain_google_vertexai) (3.10)\n",
            "Requirement already satisfied: sniffio in /usr/local/lib/python3.10/dist-packages (from httpx<0.28.0,>=0.27.0->langchain_google_vertexai) (1.3.1)\n",
            "Collecting h11<0.15,>=0.13 (from httpcore==1.*->httpx<0.28.0,>=0.27.0->langchain_google_vertexai)\n",
            "  Downloading h11-0.14.0-py3-none-any.whl.metadata (8.2 kB)\n",
            "Collecting jsonpointer>=1.9 (from jsonpatch<2.0,>=1.33->langchain-core)\n",
            "  Downloading jsonpointer-3.0.0-py2.py3-none-any.whl.metadata (2.3 kB)\n",
            "Collecting orjson<4.0.0,>=3.9.14 (from langsmith<0.2.0,>=0.1.125->langchain-core)\n",
            "  Downloading orjson-3.10.7-cp310-cp310-manylinux_2_17_x86_64.manylinux2014_x86_64.whl.metadata (50 kB)\n",
            "\u001b[2K     \u001b[90m━━━━━━━━━━━━━━━━━━━━━━━━━━━━━━━━━━━━━━━━\u001b[0m \u001b[32m50.4/50.4 kB\u001b[0m \u001b[31m6.8 MB/s\u001b[0m eta \u001b[36m0:00:00\u001b[0m\n",
            "\u001b[?25hCollecting requests-toolbelt<2.0.0,>=1.0.0 (from langsmith<0.2.0,>=0.1.125->langchain-core)\n",
            "  Downloading requests_toolbelt-1.0.0-py2.py3-none-any.whl.metadata (14 kB)\n",
            "Requirement already satisfied: annotated-types>=0.6.0 in /usr/local/lib/python3.10/dist-packages (from pydantic<3,>=2->langchain_google_vertexai) (0.7.0)\n",
            "Collecting pydantic-core==2.23.4 (from pydantic<3,>=2->langchain_google_vertexai)\n",
            "  Downloading pydantic_core-2.23.4-cp310-cp310-manylinux_2_17_x86_64.manylinux2014_x86_64.whl.metadata (6.6 kB)\n",
            "Requirement already satisfied: googleapis-common-protos<2.0.dev0,>=1.56.2 in /usr/local/lib/python3.10/dist-packages (from google-api-core!=2.0.*,!=2.1.*,!=2.2.*,!=2.3.*,!=2.4.*,!=2.5.*,!=2.6.*,!=2.7.*,<3.0.0dev,>=1.34.1->google-api-core[grpc]!=2.0.*,!=2.1.*,!=2.2.*,!=2.3.*,!=2.4.*,!=2.5.*,!=2.6.*,!=2.7.*,<3.0.0dev,>=1.34.1->google-cloud-aiplatform<2.0.0,>=1.56.0->langchain_google_vertexai) (1.65.0)\n",
            "Requirement already satisfied: grpcio<2.0dev,>=1.33.2 in /usr/local/lib/python3.10/dist-packages (from google-api-core[grpc]!=2.0.*,!=2.1.*,!=2.2.*,!=2.3.*,!=2.4.*,!=2.5.*,!=2.6.*,!=2.7.*,<3.0.0dev,>=1.34.1->google-cloud-aiplatform<2.0.0,>=1.56.0->langchain_google_vertexai) (1.64.1)\n",
            "Requirement already satisfied: grpcio-status<2.0.dev0,>=1.33.2 in /usr/local/lib/python3.10/dist-packages (from google-api-core[grpc]!=2.0.*,!=2.1.*,!=2.2.*,!=2.3.*,!=2.4.*,!=2.5.*,!=2.6.*,!=2.7.*,<3.0.0dev,>=1.34.1->google-cloud-aiplatform<2.0.0,>=1.56.0->langchain_google_vertexai) (1.48.2)\n",
            "Requirement already satisfied: cachetools<6.0,>=2.0.0 in /usr/local/lib/python3.10/dist-packages (from google-auth<3.0.0dev,>=2.14.1->google-cloud-aiplatform<2.0.0,>=1.56.0->langchain_google_vertexai) (5.5.0)\n",
            "Requirement already satisfied: pyasn1-modules>=0.2.1 in /usr/local/lib/python3.10/dist-packages (from google-auth<3.0.0dev,>=2.14.1->google-cloud-aiplatform<2.0.0,>=1.56.0->langchain_google_vertexai) (0.4.1)\n",
            "Requirement already satisfied: rsa<5,>=3.1.4 in /usr/local/lib/python3.10/dist-packages (from google-auth<3.0.0dev,>=2.14.1->google-cloud-aiplatform<2.0.0,>=1.56.0->langchain_google_vertexai) (4.9)\n",
            "Requirement already satisfied: python-dateutil<3.0dev,>=2.7.2 in /usr/local/lib/python3.10/dist-packages (from google-cloud-bigquery!=3.20.0,<4.0.0dev,>=1.15.0->google-cloud-aiplatform<2.0.0,>=1.56.0->langchain_google_vertexai) (2.8.2)\n",
            "Requirement already satisfied: grpc-google-iam-v1<1.0.0dev,>=0.12.4 in /usr/local/lib/python3.10/dist-packages (from google-cloud-resource-manager<3.0.0dev,>=1.3.3->google-cloud-aiplatform<2.0.0,>=1.56.0->langchain_google_vertexai) (0.13.1)\n",
            "Requirement already satisfied: charset-normalizer<4,>=2 in /usr/local/lib/python3.10/dist-packages (from requests<3.0.0dev,>=2.18.0->google-cloud-storage<3.0.0,>=2.17.0->langchain_google_vertexai) (3.3.2)\n",
            "Requirement already satisfied: urllib3<3,>=1.21.1 in /usr/local/lib/python3.10/dist-packages (from requests<3.0.0dev,>=2.18.0->google-cloud-storage<3.0.0,>=2.17.0->langchain_google_vertexai) (2.0.7)\n",
            "Requirement already satisfied: numpy<3,>=1.14 in /usr/local/lib/python3.10/dist-packages (from shapely<3.0.0dev->google-cloud-aiplatform<2.0.0,>=1.56.0->langchain_google_vertexai) (1.26.4)\n",
            "Requirement already satisfied: exceptiongroup in /usr/local/lib/python3.10/dist-packages (from anyio->httpx<0.28.0,>=0.27.0->langchain_google_vertexai) (1.2.2)\n",
            "Requirement already satisfied: pyasn1<0.7.0,>=0.4.6 in /usr/local/lib/python3.10/dist-packages (from pyasn1-modules>=0.2.1->google-auth<3.0.0dev,>=2.14.1->google-cloud-aiplatform<2.0.0,>=1.56.0->langchain_google_vertexai) (0.6.1)\n",
            "Requirement already satisfied: six>=1.5 in /usr/local/lib/python3.10/dist-packages (from python-dateutil<3.0dev,>=2.7.2->google-cloud-bigquery!=3.20.0,<4.0.0dev,>=1.15.0->google-cloud-aiplatform<2.0.0,>=1.56.0->langchain_google_vertexai) (1.16.0)\n",
            "Downloading langchain_google_vertexai-2.0.3-py3-none-any.whl (87 kB)\n",
            "\u001b[2K   \u001b[90m━━━━━━━━━━━━━━━━━━━━━━━━━━━━━━━━━━━━━━━━\u001b[0m \u001b[32m87.4/87.4 kB\u001b[0m \u001b[31m12.4 MB/s\u001b[0m eta \u001b[36m0:00:00\u001b[0m\n",
            "\u001b[?25hDownloading PyMuPDF-1.24.10-cp310-none-manylinux2014_x86_64.whl (3.5 MB)\n",
            "\u001b[2K   \u001b[90m━━━━━━━━━━━━━━━━━━━━━━━━━━━━━━━━━━━━━━━━\u001b[0m \u001b[32m3.5/3.5 MB\u001b[0m \u001b[31m55.3 MB/s\u001b[0m eta \u001b[36m0:00:00\u001b[0m\n",
            "\u001b[?25hDownloading PyMuPDFb-1.24.10-py3-none-manylinux2014_x86_64.manylinux_2_17_x86_64.whl (15.9 MB)\n",
            "\u001b[2K   \u001b[90m━━━━━━━━━━━━━━━━━━━━━━━━━━━━━━━━━━━━━━━━\u001b[0m \u001b[32m15.9/15.9 MB\u001b[0m \u001b[31m87.1 MB/s\u001b[0m eta \u001b[36m0:00:00\u001b[0m\n",
            "\u001b[?25hDownloading langchain_core-0.3.8-py3-none-any.whl (400 kB)\n",
            "\u001b[2K   \u001b[90m━━━━━━━━━━━━━━━━━━━━━━━━━━━━━━━━━━━━━━━━\u001b[0m \u001b[32m400.9/400.9 kB\u001b[0m \u001b[31m42.1 MB/s\u001b[0m eta \u001b[36m0:00:00\u001b[0m\n",
            "\u001b[?25hDownloading google_cloud_storage-2.18.2-py2.py3-none-any.whl (130 kB)\n",
            "\u001b[2K   \u001b[90m━━━━━━━━━━━━━━━━━━━━━━━━━━━━━━━━━━━━━━━━\u001b[0m \u001b[32m130.5/130.5 kB\u001b[0m \u001b[31m20.4 MB/s\u001b[0m eta \u001b[36m0:00:00\u001b[0m\n",
            "\u001b[?25hDownloading httpx-0.27.2-py3-none-any.whl (76 kB)\n",
            "\u001b[2K   \u001b[90m━━━━━━━━━━━━━━━━━━━━━━━━━━━━━━━━━━━━━━━━\u001b[0m \u001b[32m76.4/76.4 kB\u001b[0m \u001b[31m10.9 MB/s\u001b[0m eta \u001b[36m0:00:00\u001b[0m\n",
            "\u001b[?25hDownloading httpcore-1.0.6-py3-none-any.whl (78 kB)\n",
            "\u001b[2K   \u001b[90m━━━━━━━━━━━━━━━━━━━━━━━━━━━━━━━━━━━━━━━━\u001b[0m \u001b[32m78.0/78.0 kB\u001b[0m \u001b[31m11.5 MB/s\u001b[0m eta \u001b[36m0:00:00\u001b[0m\n",
            "\u001b[?25hDownloading httpx_sse-0.4.0-py3-none-any.whl (7.8 kB)\n",
            "Downloading jsonpatch-1.33-py2.py3-none-any.whl (12 kB)\n",
            "Downloading langsmith-0.1.130-py3-none-any.whl (294 kB)\n",
            "\u001b[2K   \u001b[90m━━━━━━━━━━━━━━━━━━━━━━━━━━━━━━━━━━━━━━━━\u001b[0m \u001b[32m294.6/294.6 kB\u001b[0m \u001b[31m34.7 MB/s\u001b[0m eta \u001b[36m0:00:00\u001b[0m\n",
            "\u001b[?25hDownloading pydantic-2.9.2-py3-none-any.whl (434 kB)\n",
            "\u001b[2K   \u001b[90m━━━━━━━━━━━━━━━━━━━━━━━━━━━━━━━━━━━━━━━━\u001b[0m \u001b[32m434.9/434.9 kB\u001b[0m \u001b[31m45.1 MB/s\u001b[0m eta \u001b[36m0:00:00\u001b[0m\n",
            "\u001b[?25hDownloading pydantic_core-2.23.4-cp310-cp310-manylinux_2_17_x86_64.manylinux2014_x86_64.whl (2.1 MB)\n",
            "\u001b[2K   \u001b[90m━━━━━━━━━━━━━━━━━━━━━━━━━━━━━━━━━━━━━━━━\u001b[0m \u001b[32m2.1/2.1 MB\u001b[0m \u001b[31m90.2 MB/s\u001b[0m eta \u001b[36m0:00:00\u001b[0m\n",
            "\u001b[?25hDownloading tenacity-8.5.0-py3-none-any.whl (28 kB)\n",
            "Downloading jsonpointer-3.0.0-py2.py3-none-any.whl (7.6 kB)\n",
            "Downloading orjson-3.10.7-cp310-cp310-manylinux_2_17_x86_64.manylinux2014_x86_64.whl (141 kB)\n",
            "\u001b[2K   \u001b[90m━━━━━━━━━━━━━━━━━━━━━━━━━━━━━━━━━━━━━━━━\u001b[0m \u001b[32m141.9/141.9 kB\u001b[0m \u001b[31m22.1 MB/s\u001b[0m eta \u001b[36m0:00:00\u001b[0m\n",
            "\u001b[?25hDownloading requests_toolbelt-1.0.0-py2.py3-none-any.whl (54 kB)\n",
            "\u001b[2K   \u001b[90m━━━━━━━━━━━━━━━━━━━━━━━━━━━━━━━━━━━━━━━━\u001b[0m \u001b[32m54.5/54.5 kB\u001b[0m \u001b[31m9.4 MB/s\u001b[0m eta \u001b[36m0:00:00\u001b[0m\n",
            "\u001b[?25hDownloading h11-0.14.0-py3-none-any.whl (58 kB)\n",
            "\u001b[2K   \u001b[90m━━━━━━━━━━━━━━━━━━━━━━━━━━━━━━━━━━━━━━━━\u001b[0m \u001b[32m58.3/58.3 kB\u001b[0m \u001b[31m9.7 MB/s\u001b[0m eta \u001b[36m0:00:00\u001b[0m\n",
            "\u001b[?25hInstalling collected packages: tenacity, PyMuPDFb, pydantic-core, orjson, jsonpointer, httpx-sse, h11, requests-toolbelt, pymupdf, pydantic, jsonpatch, httpcore, httpx, langsmith, langchain-core, google-cloud-storage, langchain_google_vertexai\n",
            "  Attempting uninstall: tenacity\n",
            "    Found existing installation: tenacity 9.0.0\n",
            "    Uninstalling tenacity-9.0.0:\n",
            "      Successfully uninstalled tenacity-9.0.0\n",
            "  Attempting uninstall: pydantic-core\n",
            "    Found existing installation: pydantic_core 2.23.3\n",
            "    Uninstalling pydantic_core-2.23.3:\n",
            "      Successfully uninstalled pydantic_core-2.23.3\n",
            "  Attempting uninstall: pydantic\n",
            "    Found existing installation: pydantic 1.10.18\n",
            "    Uninstalling pydantic-1.10.18:\n",
            "      Successfully uninstalled pydantic-1.10.18\n",
            "  Attempting uninstall: google-cloud-storage\n",
            "    Found existing installation: google-cloud-storage 2.8.0\n",
            "    Uninstalling google-cloud-storage-2.8.0:\n",
            "      Successfully uninstalled google-cloud-storage-2.8.0\n",
            "Successfully installed PyMuPDFb-1.24.10 google-cloud-storage-2.18.2 h11-0.14.0 httpcore-1.0.6 httpx-0.27.2 httpx-sse-0.4.0 jsonpatch-1.33 jsonpointer-3.0.0 langchain-core-0.3.8 langchain_google_vertexai-2.0.3 langsmith-0.1.130 orjson-3.10.7 pydantic-2.9.2 pydantic-core-2.23.4 pymupdf-1.24.10 requests-toolbelt-1.0.0 tenacity-8.5.0\n"
          ]
        },
        {
          "output_type": "display_data",
          "data": {
            "application/vnd.colab-display-data+json": {
              "pip_warning": {
                "packages": [
                  "google"
                ]
              },
              "id": "17467d8c2e804866baba91700bed674b"
            }
          },
          "metadata": {}
        }
      ]
    },
    {
      "cell_type": "code",
      "id": "CWPTYYi5m4JfRjTxIy4sGAVB",
      "metadata": {
        "tags": [],
        "id": "CWPTYYi5m4JfRjTxIy4sGAVB",
        "colab": {
          "base_uri": "https://localhost:8080/"
        },
        "executionInfo": {
          "status": "ok",
          "timestamp": 1727896176411,
          "user_tz": 300,
          "elapsed": 5328,
          "user": {
            "displayName": "",
            "userId": ""
          }
        },
        "outputId": "5c2c2283-9489-4647-feba-5bde6abb676f"
      },
      "source": [
        "from google.auth import default, transport\n",
        "\n",
        "from langchain_google_vertexai import ChatVertexAI\n",
        "\n",
        "ENDPOINT_ID=\"3135878630672957440\"\n",
        "PROJECT_ID=\"768608702519\"\n",
        "\n",
        "credentials, _ = default()\n",
        "auth_request = transport.requests.Request()\n",
        "credentials.refresh(auth_request)\n",
        "\n",
        "llm = ChatVertexAI(\n",
        "    model=\"llama-3-2-1b-instruct\",\n",
        "    full_model_name=f\"projects/{PROJECT_ID}/locations/us-central1/endpoints/{ENDPOINT_ID}\",\n",
        "    temperature=0,\n",
        "    max_tokens=None,\n",
        "    max_retries=6,\n",
        "    stop=None,\n",
        "    # other params...\n",
        ")\n",
        "\n",
        "print(llm.invoke(\"Who was the first president of the United States?\"))\n"
      ],
      "execution_count": 4,
      "outputs": [
        {
          "output_type": "stream",
          "name": "stdout",
          "text": [
            "content='The first president of the United States was George Washington. He served two terms in office from April 30, 1789, to March 4, 1797.' additional_kwargs={} response_metadata={'is_blocked': False, 'safety_ratings': [], 'usage_metadata': {'prompt_token_count': 20, 'candidates_token_count': 36, 'total_token_count': 56, 'cached_content_token_count': 0}, 'finish_reason': 'STOP'} id='run-8e66f20f-e61c-44ed-880b-c0ad23e657dd-0' usage_metadata={'input_tokens': 20, 'output_tokens': 36, 'total_tokens': 56}\n"
          ]
        }
      ]
    },
    {
      "cell_type": "code",
      "source": [],
      "metadata": {
        "id": "0v2QyNlaZqU4"
      },
      "id": "0v2QyNlaZqU4",
      "execution_count": null,
      "outputs": []
    },
    {
      "cell_type": "code",
      "source": [
        "import pymupdf\n",
        "import json\n",
        "from google.cloud import storage\n",
        "from langchain_core.output_parsers import JsonOutputParser\n",
        "from langchain_core.prompts import PromptTemplate\n",
        "from pydantic import BaseModel, Field\n",
        "from typing import List, Optional\n",
        "\n",
        "BUCKET_NAME = \"cloud-ai-platform-e215f7f7-a526-4a66-902d-eb69384ef0c4\"\n",
        "storage_client = storage.Client()\n",
        "bucket = storage_client.bucket(BUCKET_NAME)\n",
        "\n",
        "# Define your desired data structure.\n",
        "class Author(BaseModel):\n",
        "    first: str = Field(description=\"first name and any middle name or initials\")\n",
        "    last: str = Field(description=\"last name\")\n",
        "\n",
        "class ArticleMetadata(BaseModel):\n",
        "    title: str = Field(description=\"title of the article\")\n",
        "    authors: List[Author] = Field(..., description=\"List of authors.\")\n",
        "    keywords: List[str] = Field(..., description=\"List of keywords.\")\n",
        "    abstract: Optional[str] = Field(description=\"the abstract of the article\")\n",
        "\n",
        "def file_content(file) -> str:\n",
        "    blob = storage.Blob(file, bucket)\n",
        "\n",
        "    doc = pymupdf.open(\"pdf\", blob.download_as_bytes())\n",
        "    file_content= \"\"\n",
        "    for page in doc.pages(0, 3, 1): # first three pages\n",
        "      file_content += page.get_text()\n",
        "    return file_content\n",
        "\n",
        "def create_chain() -> str:\n",
        "    template = \"\"\"Here is an academic paper: <paper>{file_content}</paper>\n",
        "\n",
        "\n",
        "    Please extract the following data from the paper.\n",
        "    The title of the article.\n",
        "    The list of authors split into first and last name. The first name may include any initials or middle names as well. Use \"first\" and \"last\" as the JSON keys for the name.\n",
        "    The abstract if it is explicitly provided. Do not try to generate an abstract unless it is present.\n",
        "    The list of keywords that are explicitly provided on the paper. Do not try to generate keywords unless they are present. If there are no keywords represent this as an empty list.\n",
        "\n",
        "    {format_instructions}\n",
        "    \"\"\"\n",
        "    parser = JsonOutputParser(pydantic_object=ArticleMetadata)\n",
        "    prompt = PromptTemplate(\n",
        "      input_variables=[\"file_content\"],\n",
        "      template=template,\n",
        "      partial_variables={\"format_instructions\": parser.get_format_instructions()},\n",
        "    )\n",
        "    return prompt | llm | parser\n",
        "\n",
        "# Send Google Cloud Storage Document to Vertex AI\n",
        "def process_document(\n",
        "    file: str,\n",
        ") -> str:\n",
        "    chain = create_chain()\n",
        "    return json.dumps(chain.invoke({\"file_content\": file_content(file)}))\n",
        "    # return chain.invoke({\"file_content\": file_content(file)})\n",
        "\n",
        "def process_row(filename, alex_id, bucket):\n",
        "    print(filename)\n",
        "    result = process_document(filename)\n",
        "    blob = bucket.blob(f'preprints/results-llama-3-2-1b-instruct/{alex_id}.json')\n",
        "    with blob.open(\"w\") as f:\n",
        "      f.write(result)"
      ],
      "metadata": {
        "id": "SaCjXv1VhmHi",
        "executionInfo": {
          "status": "ok",
          "timestamp": 1727896610055,
          "user_tz": 300,
          "elapsed": 284,
          "user": {
            "displayName": "",
            "userId": ""
          }
        }
      },
      "execution_count": 14,
      "outputs": [],
      "id": "SaCjXv1VhmHi"
    },
    {
      "cell_type": "code",
      "source": [
        "print(process_document('preprints/chemrxiv.org/W4304614191.pdf'))"
      ],
      "metadata": {
        "colab": {
          "base_uri": "https://localhost:8080/"
        },
        "id": "r6IgyS-5aCkR",
        "executionInfo": {
          "status": "ok",
          "timestamp": 1727896451861,
          "user_tz": 300,
          "elapsed": 3276,
          "user": {
            "displayName": "",
            "userId": ""
          }
        },
        "outputId": "364affe3-3707-4863-999a-4363549f6e84"
      },
      "id": "r6IgyS-5aCkR",
      "execution_count": 12,
      "outputs": [
        {
          "output_type": "stream",
          "name": "stdout",
          "text": [
            "The output should be formatted as a JSON instance that conforms to the JSON schema below.\n",
            "\n",
            "As an example, for the schema {\"properties\": {\"foo\": {\"title\": \"Foo\", \"description\": \"a list of strings\", \"type\": \"array\", \"items\": {\"type\": \"string\"}}}, \"required\": [\"foo\"]}\n",
            "the object {\"foo\": [\"bar\", \"baz\"]} is a well-formatted instance of the schema. The object {\"properties\": {\"foo\": [\"bar\", \"baz\"]}} is not well-formatted.\n",
            "\n",
            "Here is the output schema:\n",
            "```\n",
            "{\"$defs\": {\"Author\": {\"properties\": {\"first\": {\"description\": \"first name and any middle name or initials\", \"title\": \"First\", \"type\": \"string\"}, \"last\": {\"description\": \"last name\", \"title\": \"Last\", \"type\": \"string\"}}, \"required\": [\"first\", \"last\"], \"title\": \"Author\", \"type\": \"object\"}}, \"properties\": {\"title\": {\"description\": \"title of the article\", \"title\": \"Title\", \"type\": \"string\"}, \"authors\": {\"description\": \"List of authors.\", \"items\": {\"$ref\": \"#/$defs/Author\"}, \"title\": \"Authors\", \"type\": \"array\"}, \"keywords\": {\"description\": \"List of keywords.\", \"items\": {\"type\": \"string\"}, \"title\": \"Keywords\", \"type\": \"array\"}, \"abstract\": {\"anyOf\": [{\"type\": \"string\"}, {\"type\": \"null\"}], \"description\": \"the abstract of the article\", \"title\": \"Abstract\"}}, \"required\": [\"title\", \"authors\", \"keywords\", \"abstract\"]}\n",
            "```\n",
            "{\"title\": \"\\u03b2-Lactamases evolve against antibiotics by acquiring large active-site electric fields\", \"authors\": [{\"first\": \"Zhe\", \"last\": \"Ji\"}, {\"first\": \"Steven\", \"last\": \"G. Boxer\"}], \"abstract\": \"<paper>\\u03b2-Lactamases evolve against antibiotics by acquiring large active-site electric fields</paper>\", \"keywords\": [\"\\u03b2-lactamases\", \"antibiotics\", \"electric fields\", \"protein evolution\", \"enzyme active site\", \"hydrolysis\", \"penicillin G\", \"TEM \\u03b2-lactamases\", \"Avibactam\", \"nullification of newly developed antibiotic drugs\"]}\n"
          ]
        }
      ]
    },
    {
      "cell_type": "code",
      "source": [
        "import csv\n",
        "DIR = 'preprints/'\n",
        "FILENAME = f'{DIR}records-48.csv'\n",
        "\n",
        "blob = bucket.blob(FILENAME)\n",
        "with blob.open() as csvfile:\n",
        "  reader = csv.reader(csvfile)\n",
        "  next(reader) # skip headers\n",
        "  for row in reader:\n",
        "    filename = row[1].removeprefix(f\"https://storage.cloud.google.com/{BUCKET_NAME}/\")\n",
        "    alex_id = row[0].removeprefix(\"https://openalex.org/\")\n",
        "    process_row(filename, alex_id, bucket)\n"
      ],
      "metadata": {
        "colab": {
          "base_uri": "https://localhost:8080/"
        },
        "id": "vRXJ_kQehX_l",
        "outputId": "73ed076a-1b7e-437b-abc3-d89ea6342039",
        "executionInfo": {
          "status": "ok",
          "timestamp": 1727897033543,
          "user_tz": 300,
          "elapsed": 419742,
          "user": {
            "displayName": "",
            "userId": ""
          }
        }
      },
      "execution_count": 15,
      "outputs": [
        {
          "output_type": "stream",
          "name": "stdout",
          "text": [
            "preprints/arxiv.org/W2988715931.pdf\n",
            "preprints/arxiv.org/W3202546816.pdf\n",
            "preprints/osf.io/W4212832069.pdf\n",
            "preprints/discovery.ucl.ac.uk/W2901173781.pdf\n",
            "preprints/www.biorxiv.org/W3013783484.pdf\n",
            "preprints/eartharxiv.org/W4226140866.pdf\n",
            "preprints/www.biorxiv.org/W4399283731.pdf\n",
            "preprints/arxiv.org/W3126527592.pdf\n",
            "preprints/escholarship.org/W3093048371.pdf\n",
            "preprints/escholarship.org/W4205859241.pdf\n",
            "preprints/www.medrxiv.org/W4322154575.pdf\n",
            "preprints/www.researchsquare.com/W4297341531.pdf\n",
            "preprints/www.medrxiv.org/W4393156923.pdf\n",
            "preprints/escholarship.org/W3000588783.pdf\n",
            "preprints/www.medrxiv.org/W3091235616.pdf\n",
            "preprints/preprints.apsanet.org/W4296103990.pdf\n",
            "preprints/ora.ox.ac.uk/W3170856023.pdf\n",
            "preprints/arxiv.org/W3164284701.pdf\n",
            "preprints/arxiv.org/W3183339884.pdf\n",
            "preprints/www.researchsquare.com/W4393028888.pdf\n",
            "preprints/www.researchsquare.com/W4394813096.pdf\n",
            "preprints/chemrxiv.org/W4304614191.pdf\n",
            "preprints/inria.hal.science/W4386128506.pdf\n",
            "preprints/osf.io/W4376255784.pdf\n",
            "preprints/arxiv.org/W3177095392.pdf\n",
            "preprints/www.researchsquare.com/W3133101250.pdf\n",
            "preprints/preprints.apsanet.org/W3045625995.pdf\n",
            "preprints/www.lenus.ie/W2890142544.pdf\n",
            "preprints/eartharxiv.org/W4250899323.pdf\n",
            "preprints/osf.io/W4385565029.pdf\n",
            "preprints/arxiv.org/W3124742002.pdf\n",
            "preprints/arxiv.org/W3178821884.pdf\n",
            "preprints/www.medrxiv.org/W3021395141.pdf\n",
            "preprints/arxiv.org/W3035272603.pdf\n",
            "preprints/www.researchsquare.com/W4247150207.pdf\n",
            "preprints/www.medrxiv.org/W3007313800.pdf\n",
            "preprints/osf.io/W4245851024.pdf\n",
            "preprints/www.biorxiv.org/W4401157222.pdf\n",
            "preprints/arxiv.org/W3005397613.pdf\n",
            "preprints/arxiv.org/W3116436840.pdf\n",
            "preprints/www.medrxiv.org/W3174061332.pdf\n",
            "preprints/arxiv.org/W3199353954.pdf\n",
            "preprints/arxiv.org/W3205417062.pdf\n",
            "preprints/arxiv.org/W3025420576.pdf\n",
            "preprints/publikationen.ub.uni-frankfurt.de/W4313482304.pdf\n",
            "preprints/www.frbsf.org/W2919371474.pdf\n",
            "preprints/osf.io/W4386513944.pdf\n",
            "preprints/escholarship.org/W3087573264.pdf\n"
          ]
        }
      ],
      "id": "vRXJ_kQehX_l"
    }
  ],
  "metadata": {
    "kernelspec": {
      "display_name": "Python 3",
      "language": "python",
      "name": "python3"
    },
    "language_info": {
      "codemirror_mode": {
        "name": "ipython",
        "version": 3
      },
      "file_extension": ".py",
      "mimetype": "text/x-python",
      "name": "python",
      "nbconvert_exporter": "python",
      "pygments_lexer": "ipython3",
      "version": "3.10.10"
    },
    "colab": {
      "provenance": [],
      "name": "Custom endpoint test"
    }
  },
  "nbformat": 4,
  "nbformat_minor": 5
}